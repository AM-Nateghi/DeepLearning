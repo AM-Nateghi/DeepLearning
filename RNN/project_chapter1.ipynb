{
 "cells": [
  {
   "cell_type": "markdown",
   "id": "0980c430",
   "metadata": {},
   "source": [
    "# Predict of Google Stock Price using LSTM"
   ]
  },
  {
   "cell_type": "code",
   "execution_count": 24,
   "id": "988ed48e",
   "metadata": {},
   "outputs": [
    {
     "name": "stderr",
     "output_type": "stream",
     "text": [
      "/tmp/ipykernel_10533/48049003.py:11: FutureWarning: YF.download() has changed argument auto_adjust default to True\n",
      "  data = yfinance.download('GOOGL', start='2022-01-01', end='2024-12-30')\n",
      "[*********************100%***********************]  1 of 1 completed\n"
     ]
    },
    {
     "data": {
      "text/html": [
       "<div>\n",
       "<style scoped>\n",
       "    .dataframe tbody tr th:only-of-type {\n",
       "        vertical-align: middle;\n",
       "    }\n",
       "\n",
       "    .dataframe tbody tr th {\n",
       "        vertical-align: top;\n",
       "    }\n",
       "\n",
       "    .dataframe thead tr th {\n",
       "        text-align: left;\n",
       "    }\n",
       "\n",
       "    .dataframe thead tr:last-of-type th {\n",
       "        text-align: right;\n",
       "    }\n",
       "</style>\n",
       "<table border=\"1\" class=\"dataframe\">\n",
       "  <thead>\n",
       "    <tr>\n",
       "      <th>Price</th>\n",
       "      <th>Close</th>\n",
       "      <th>High</th>\n",
       "      <th>Low</th>\n",
       "      <th>Open</th>\n",
       "      <th>Volume</th>\n",
       "    </tr>\n",
       "    <tr>\n",
       "      <th>Ticker</th>\n",
       "      <th>GOOGL</th>\n",
       "      <th>GOOGL</th>\n",
       "      <th>GOOGL</th>\n",
       "      <th>GOOGL</th>\n",
       "      <th>GOOGL</th>\n",
       "    </tr>\n",
       "    <tr>\n",
       "      <th>Date</th>\n",
       "      <th></th>\n",
       "      <th></th>\n",
       "      <th></th>\n",
       "      <th></th>\n",
       "      <th></th>\n",
       "    </tr>\n",
       "  </thead>\n",
       "  <tbody>\n",
       "    <tr>\n",
       "      <th>2022-01-03</th>\n",
       "      <td>143.998322</td>\n",
       "      <td>144.851931</td>\n",
       "      <td>142.728576</td>\n",
       "      <td>144.061378</td>\n",
       "      <td>28646000</td>\n",
       "    </tr>\n",
       "    <tr>\n",
       "      <th>2022-01-04</th>\n",
       "      <td>143.410400</td>\n",
       "      <td>145.481610</td>\n",
       "      <td>142.732080</td>\n",
       "      <td>144.400065</td>\n",
       "      <td>28400000</td>\n",
       "    </tr>\n",
       "    <tr>\n",
       "      <th>2022-01-05</th>\n",
       "      <td>136.831268</td>\n",
       "      <td>143.509710</td>\n",
       "      <td>136.744874</td>\n",
       "      <td>143.430756</td>\n",
       "      <td>54618000</td>\n",
       "    </tr>\n",
       "    <tr>\n",
       "      <th>2022-01-06</th>\n",
       "      <td>136.803955</td>\n",
       "      <td>138.981442</td>\n",
       "      <td>135.623104</td>\n",
       "      <td>136.060093</td>\n",
       "      <td>37348000</td>\n",
       "    </tr>\n",
       "    <tr>\n",
       "      <th>2022-01-07</th>\n",
       "      <td>136.078445</td>\n",
       "      <td>137.500143</td>\n",
       "      <td>134.836508</td>\n",
       "      <td>137.199210</td>\n",
       "      <td>29760000</td>\n",
       "    </tr>\n",
       "  </tbody>\n",
       "</table>\n",
       "</div>"
      ],
      "text/plain": [
       "Price            Close        High         Low        Open    Volume\n",
       "Ticker           GOOGL       GOOGL       GOOGL       GOOGL     GOOGL\n",
       "Date                                                                \n",
       "2022-01-03  143.998322  144.851931  142.728576  144.061378  28646000\n",
       "2022-01-04  143.410400  145.481610  142.732080  144.400065  28400000\n",
       "2022-01-05  136.831268  143.509710  136.744874  143.430756  54618000\n",
       "2022-01-06  136.803955  138.981442  135.623104  136.060093  37348000\n",
       "2022-01-07  136.078445  137.500143  134.836508  137.199210  29760000"
      ]
     },
     "execution_count": 24,
     "metadata": {},
     "output_type": "execute_result"
    }
   ],
   "source": [
    "import yfinance\n",
    "import numpy as np\n",
    "import pandas as pd\n",
    "import matplotlib.pyplot as plt\n",
    "import keras\n",
    "from keras.models import Sequential\n",
    "from keras.layers import LSTM, Dense, Input, Dropout, SimpleRNN, LSTM, GRU\n",
    "from sklearn.preprocessing import MinMaxScaler\n",
    "from sklearn.model_selection import train_test_split\n",
    "\n",
    "data = yfinance.download('GOOGL', start='2022-01-01', end='2024-12-30')\n",
    "_close = data['Close'].values\n",
    "data.head()"
   ]
  },
  {
   "cell_type": "code",
   "execution_count": 32,
   "id": "7e69061d",
   "metadata": {},
   "outputs": [
    {
     "name": "stdout",
     "output_type": "stream",
     "text": [
      "(687, 60) (687, 4)\n",
      "\n",
      "[0.54028361 0.53508823 0.47694938 0.47670802 0.4702968  0.48479989\n",
      " 0.49415952 0.50903099 0.48407593 0.49191727 0.46135382 0.45361725\n",
      " 0.43774109 0.41179833 0.41576963 0.38181395 0.401982   0.39998097\n",
      " 0.43812296 0.45525852 0.4757996  0.56668738 0.52359557 0.52537707\n",
      " 0.48946453 0.49120208 0.51044856 0.4843653  0.44629802 0.45721127\n",
      " 0.46671181 0.47662469 0.43099641 0.41225018 0.40707651 0.38754491\n",
      " 0.43233051 0.44785137 0.45309556 0.44435835 0.44883422 0.44293646\n",
      " 0.42544559 0.37692992 0.3833015  0.43872839 0.43003527 0.40757677\n",
      " 0.373178   0.4016747  0.43750418 0.44240574 0.46247272 0.4622621\n",
      " 0.4953182  0.48134192 0.51027314 0.5111593  0.50925065 0.51846573]\n",
      "[0.51348947 0.48829291 0.49779736 0.52255555]\n"
     ]
    }
   ],
   "source": [
    "scaler = MinMaxScaler(feature_range=(0, 1))\n",
    "close = scaler.fit_transform(_close.reshape(-1, 1))\n",
    "\n",
    "def make_sequences(data, lookback_time_step=10, horizon_time_step=4):\n",
    "    X, Y = [], []\n",
    "    for i in range(len(data) - lookback_time_step - horizon_time_step):\n",
    "        a = data[i:(i + lookback_time_step), 0]\n",
    "        X.append(a)\n",
    "        Y.append(data[i + lookback_time_step:i + lookback_time_step + horizon_time_step, 0])\n",
    "    return np.array(X), np.array(Y)\n",
    "\n",
    "x, y = make_sequences(close, lookback_time_step=60, horizon_time_step=4)\n",
    "\n",
    "print(x.shape, y.shape)\n",
    "print()\n",
    "print(x[0])\n",
    "print(y[0])"
   ]
  },
  {
   "cell_type": "code",
   "execution_count": 26,
   "id": "ebfa8a41",
   "metadata": {},
   "outputs": [
    {
     "name": "stdout",
     "output_type": "stream",
     "text": [
      "Training set size: 549\n",
      "Validation set size: 138\n"
     ]
    }
   ],
   "source": [
    "# ترکیب 80-20\n",
    "xtrain, xvalidation, ytrain, yvalidation = train_test_split(x, y, test_size=0.2, random_state=42)\n",
    "print(f\"Training set size: {xtrain.shape[0]}\")\n",
    "print(f\"Validation set size: {xvalidation.shape[0]}\")"
   ]
  },
  {
   "cell_type": "code",
   "execution_count": 27,
   "id": "80f73b0a",
   "metadata": {},
   "outputs": [
    {
     "name": "stdout",
     "output_type": "stream",
     "text": [
      "Training set shape after reshaping: (549, 60, 1)\n",
      "Validation set shape after reshaping: (138, 60, 1)\n"
     ]
    }
   ],
   "source": [
    "# convert to keras shape [batch, timestep, features]\n",
    "xtrain = np.reshape(xtrain, (xtrain.shape[0], xtrain.shape[1], 1))\n",
    "xvalidation = np.reshape(xvalidation, (xvalidation.shape[0], xvalidation.shape[1], 1))\n",
    "\n",
    "print(f\"Training set shape after reshaping: {xtrain.shape}\")\n",
    "print(f\"Validation set shape after reshaping: {xvalidation.shape}\")"
   ]
  },
  {
   "cell_type": "code",
   "execution_count": 28,
   "id": "cca9f4fd",
   "metadata": {},
   "outputs": [],
   "source": [
    "public_callbacks = [\n",
    "    keras.callbacks.EarlyStopping(monitor='val_loss', patience=10),\n",
    "    keras.callbacks.ReduceLROnPlateau(monitor='val_loss', factor=0.2, patience=5)\n",
    "]"
   ]
  },
  {
   "cell_type": "markdown",
   "id": "e1124333",
   "metadata": {},
   "source": [
    "# Make SimpleRNN model"
   ]
  },
  {
   "cell_type": "code",
   "execution_count": 46,
   "id": "70521c67",
   "metadata": {},
   "outputs": [],
   "source": [
    "from keras_tuner import GridSearch, RandomSearch"
   ]
  },
  {
   "cell_type": "code",
   "execution_count": 51,
   "id": "59a035c1",
   "metadata": {},
   "outputs": [
    {
     "name": "stdout",
     "output_type": "stream",
     "text": [
      "Trial 6 Complete [00h 00m 12s]\n",
      "val_loss: 0.0021016497630625963\n",
      "\n",
      "Best val_loss So Far: 0.0012587010860443115\n",
      "Total elapsed time: 00h 00m 59s\n"
     ]
    }
   ],
   "source": [
    "def build_rnn_model(hp):\n",
    "    simple_rnn_model = Sequential()\n",
    "    simple_rnn_model.add(Input(shape=(xtrain.shape[1], 1)))\n",
    "    for i in range(hp.Int(\"num_layers\", 1, 3) - 1):\n",
    "        simple_rnn_model.add(SimpleRNN(64, activation=\"relu\", return_sequences=True))\n",
    "    simple_rnn_model.add(SimpleRNN(64, activation=\"relu\", return_sequences=False))\n",
    "    # regression layer\n",
    "    simple_rnn_model.add(Dense(4))\n",
    "    simple_rnn_model.compile(\n",
    "        optimizer=hp.Choice(\"optimizer\", [\"adam\", \"sgd\"]), loss=\"mse\", metrics=[\"mae\"]\n",
    "    )\n",
    "    return simple_rnn_model\n",
    "\n",
    "rnn_search = GridSearch(build_rnn_model, seed=42, objective=\"val_loss\")\n",
    "rnn_search.search(xtrain, ytrain, epochs=30, validation_data=(xvalidation, yvalidation))"
   ]
  },
  {
   "cell_type": "code",
   "execution_count": null,
   "id": "97c59078",
   "metadata": {},
   "outputs": [
    {
     "name": "stdout",
     "output_type": "stream",
     "text": [
      "Reloading Tuner from ./untitled_project/tuner0.json\n"
     ]
    }
   ],
   "source": [
    "def build_lstm_model(hp):\n",
    "    lstm_model = Sequential()\n",
    "    lstm_model.add(Input(shape=(xtrain.shape[1], 1)))\n",
    "    for i in range(hp.Int(\"num_layers\", 1, 3)-1):\n",
    "        lstm_model.add(LSTM(hp.Choice(\"units\", [32, 64]), activation=\"relu\", return_sequences=True))\n",
    "    lstm_model.add(LSTM(32, activation=\"relu\", return_sequences=False))\n",
    "    lstm_model.add(Dense(4))\n",
    "    lstm_model.compile(optimizer=hp.Choice(\"optimizer\", [\"adam\", \"sgd\"]), loss=\"mean_squared_error\", metrics=[\"mae\"])\n",
    "    return lstm_model\n",
    "\n",
    "lstm_search = GridSearch(build_lstm_model, seed=42, objective=\"val_loss\")\n",
    "lstm_search.search(xtrain, ytrain, epochs=30, validation_data=(xvalidation, yvalidation))"
   ]
  },
  {
   "cell_type": "code",
   "execution_count": null,
   "id": "01f739f1",
   "metadata": {},
   "outputs": [
    {
     "name": "stdout",
     "output_type": "stream",
     "text": [
      "Trial 10 Complete [00h 00m 24s]\n",
      "val_loss: 0.04954695329070091\n",
      "\n",
      "Best val_loss So Far: 0.0013030292466282845\n",
      "Total elapsed time: 00h 03m 06s\n"
     ]
    }
   ],
   "source": [
    "def build_gru_model(hp):\n",
    "    gru_model = Sequential()\n",
    "    gru_model.add(Input(shape=(xtrain.shape[1], 1)))\n",
    "    for i in range(hp.Int(\"num_layers\", 1, 3)-1):\n",
    "        gru_model.add(GRU(hp.Choice(\"units\", [32, 64]), activation=\"relu\", return_sequences=True))\n",
    "    gru_model.add(GRU(32, activation=\"relu\", return_sequences=False))\n",
    "    gru_model.add(Dense(4))\n",
    "    gru_model.compile(optimizer=hp.Choice(\"optimizer\", [\"adam\", \"sgd\"]), loss=\"mean_squared_error\", metrics=[\"mae\"])\n",
    "    return gru_model\n",
    "\n",
    "gru_search = GridSearch(build_gru_model, seed=42, objective=\"val_loss\")\n",
    "gru_search.search(xtrain, ytrain, epochs=30, validation_data=(xvalidation, yvalidation))"
   ]
  }
 ],
 "metadata": {
  "kernelspec": {
   "display_name": ".venv",
   "language": "python",
   "name": "python3"
  },
  "language_info": {
   "codemirror_mode": {
    "name": "ipython",
    "version": 3
   },
   "file_extension": ".py",
   "mimetype": "text/x-python",
   "name": "python",
   "nbconvert_exporter": "python",
   "pygments_lexer": "ipython3",
   "version": "3.12.3"
  }
 },
 "nbformat": 4,
 "nbformat_minor": 5
}
