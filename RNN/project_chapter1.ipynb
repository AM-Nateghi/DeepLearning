{
 "cells": [
  {
   "cell_type": "markdown",
   "id": "0980c430",
   "metadata": {},
   "source": [
    "# Predict of Google Stock Price using LSTM"
   ]
  },
  {
   "cell_type": "code",
   "execution_count": 9,
   "id": "988ed48e",
   "metadata": {},
   "outputs": [
    {
     "name": "stderr",
     "output_type": "stream",
     "text": [
      "/tmp/ipykernel_16682/4128937956.py:10: FutureWarning: YF.download() has changed argument auto_adjust default to True\n",
      "  data = yfinance.download('GOOGL', start='2023-01-01', end='2024-12-30')\n",
      "[*********************100%***********************]  1 of 1 completed\n"
     ]
    },
    {
     "data": {
      "text/html": [
       "<div>\n",
       "<style scoped>\n",
       "    .dataframe tbody tr th:only-of-type {\n",
       "        vertical-align: middle;\n",
       "    }\n",
       "\n",
       "    .dataframe tbody tr th {\n",
       "        vertical-align: top;\n",
       "    }\n",
       "\n",
       "    .dataframe thead tr th {\n",
       "        text-align: left;\n",
       "    }\n",
       "\n",
       "    .dataframe thead tr:last-of-type th {\n",
       "        text-align: right;\n",
       "    }\n",
       "</style>\n",
       "<table border=\"1\" class=\"dataframe\">\n",
       "  <thead>\n",
       "    <tr>\n",
       "      <th>Price</th>\n",
       "      <th>Close</th>\n",
       "      <th>High</th>\n",
       "      <th>Low</th>\n",
       "      <th>Open</th>\n",
       "      <th>Volume</th>\n",
       "    </tr>\n",
       "    <tr>\n",
       "      <th>Ticker</th>\n",
       "      <th>GOOGL</th>\n",
       "      <th>GOOGL</th>\n",
       "      <th>GOOGL</th>\n",
       "      <th>GOOGL</th>\n",
       "      <th>GOOGL</th>\n",
       "    </tr>\n",
       "    <tr>\n",
       "      <th>Date</th>\n",
       "      <th></th>\n",
       "      <th></th>\n",
       "      <th></th>\n",
       "      <th></th>\n",
       "      <th></th>\n",
       "    </tr>\n",
       "  </thead>\n",
       "  <tbody>\n",
       "    <tr>\n",
       "      <th>2023-01-03</th>\n",
       "      <td>88.509544</td>\n",
       "      <td>90.426324</td>\n",
       "      <td>87.913648</td>\n",
       "      <td>88.976319</td>\n",
       "      <td>28131200</td>\n",
       "    </tr>\n",
       "    <tr>\n",
       "      <th>2023-01-04</th>\n",
       "      <td>87.476669</td>\n",
       "      <td>90.029065</td>\n",
       "      <td>86.672213</td>\n",
       "      <td>89.731117</td>\n",
       "      <td>34854800</td>\n",
       "    </tr>\n",
       "    <tr>\n",
       "      <th>2023-01-05</th>\n",
       "      <td>85.609535</td>\n",
       "      <td>86.970154</td>\n",
       "      <td>85.311595</td>\n",
       "      <td>86.870840</td>\n",
       "      <td>27194400</td>\n",
       "    </tr>\n",
       "    <tr>\n",
       "      <th>2023-01-06</th>\n",
       "      <td>86.741730</td>\n",
       "      <td>87.089338</td>\n",
       "      <td>84.278722</td>\n",
       "      <td>86.195502</td>\n",
       "      <td>41381500</td>\n",
       "    </tr>\n",
       "    <tr>\n",
       "      <th>2023-01-09</th>\n",
       "      <td>87.417068</td>\n",
       "      <td>89.433170</td>\n",
       "      <td>87.258168</td>\n",
       "      <td>87.754743</td>\n",
       "      <td>29003900</td>\n",
       "    </tr>\n",
       "  </tbody>\n",
       "</table>\n",
       "</div>"
      ],
      "text/plain": [
       "Price           Close       High        Low       Open    Volume\n",
       "Ticker          GOOGL      GOOGL      GOOGL      GOOGL     GOOGL\n",
       "Date                                                            \n",
       "2023-01-03  88.509544  90.426324  87.913648  88.976319  28131200\n",
       "2023-01-04  87.476669  90.029065  86.672213  89.731117  34854800\n",
       "2023-01-05  85.609535  86.970154  85.311595  86.870840  27194400\n",
       "2023-01-06  86.741730  87.089338  84.278722  86.195502  41381500\n",
       "2023-01-09  87.417068  89.433170  87.258168  87.754743  29003900"
      ]
     },
     "execution_count": 9,
     "metadata": {},
     "output_type": "execute_result"
    }
   ],
   "source": [
    "import yfinance\n",
    "import numpy as np\n",
    "import pandas as pd\n",
    "import matplotlib.pyplot as plt\n",
    "import keras\n",
    "from keras.models import Sequential\n",
    "from keras.layers import LSTM, Dense, Input, Dropout\n",
    "from sklearn.preprocessing import MinMaxScaler\n",
    "\n",
    "data = yfinance.download('GOOGL', start='2023-01-01', end='2024-12-30')\n",
    "_close = data['Close'].values\n",
    "data.head()"
   ]
  },
  {
   "cell_type": "code",
   "execution_count": 10,
   "id": "7e69061d",
   "metadata": {},
   "outputs": [
    {
     "name": "stdout",
     "output_type": "stream",
     "text": [
      "(436, 60) (436, 4)\n"
     ]
    }
   ],
   "source": [
    "scaler = MinMaxScaler(feature_range=(0, 1))\n",
    "close = scaler.fit_transform(_close.reshape(-1, 1))\n",
    "\n",
    "def make_sequences(data, lookback_time_step=10, horizon_time_step=4):\n",
    "    X, Y = [], []\n",
    "    for i in range(len(data) - lookback_time_step - horizon_time_step):\n",
    "        a = data[i:(i + lookback_time_step), 0]\n",
    "        X.append(a)\n",
    "        Y.append(data[i + lookback_time_step:i + lookback_time_step + horizon_time_step, 0])\n",
    "    return np.array(X), np.array(Y)\n",
    "\n",
    "x, y = make_sequences(close, lookback_time_step=60, horizon_time_step=4)\n",
    "\n",
    "print(x.shape, y.shape)"
   ]
  }
 ],
 "metadata": {
  "kernelspec": {
   "display_name": ".venv",
   "language": "python",
   "name": "python3"
  },
  "language_info": {
   "codemirror_mode": {
    "name": "ipython",
    "version": 3
   },
   "file_extension": ".py",
   "mimetype": "text/x-python",
   "name": "python",
   "nbconvert_exporter": "python",
   "pygments_lexer": "ipython3",
   "version": "3.12.3"
  }
 },
 "nbformat": 4,
 "nbformat_minor": 5
}
