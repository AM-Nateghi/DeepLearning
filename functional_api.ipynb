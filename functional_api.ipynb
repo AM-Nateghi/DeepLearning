{
 "cells": [
  {
   "cell_type": "markdown",
   "id": "10a8e0b7",
   "metadata": {},
   "source": [
    "# Functional API Keras Using or Wide&Deep Learning"
   ]
  },
  {
   "cell_type": "code",
   "execution_count": 17,
   "id": "7dfe1aa1",
   "metadata": {},
   "outputs": [],
   "source": [
    "import keras\n",
    "from keras.layers import Dense, Input, Concatenate\n",
    "from keras.models import Model\n",
    "from sklearn.model_selection import train_test_split\n",
    "from sklearn.preprocessing import StandardScaler\n",
    "from sklearn.datasets import load_iris\n",
    "import matplotlib.pyplot as plt\n",
    "import numpy as np\n",
    "import tensorflow as tf\n",
    "tf.config.run_functions_eagerly(True)\n",
    "\n",
    "x, y = load_iris(return_X_y=True)"
   ]
  },
  {
   "cell_type": "code",
   "execution_count": 18,
   "id": "22b08057",
   "metadata": {},
   "outputs": [],
   "source": [
    "x_scaled = StandardScaler().fit_transform(x)\n",
    "_xtrain, x_test, _ytrain, y_test = train_test_split(x_scaled, y, test_size=0.2, random_state=4)\n",
    "x_train, x_val, y_train, y_val = train_test_split(_xtrain, _ytrain, test_size=0.15, random_state=4)"
   ]
  },
  {
   "cell_type": "code",
   "execution_count": 19,
   "id": "e9a7f787",
   "metadata": {},
   "outputs": [],
   "source": [
    "input_layer = Input(shape=(x_train.shape[1],))\n",
    "hid_layer_1 = Dense(128, activation='relu')(input_layer)\n",
    "hid_layer_2 = Dense(128, activation='relu')(hid_layer_1)\n",
    "hid_layer_3 = Dense(32, activation='relu')(hid_layer_2)\n",
    "conc_layer = Concatenate()([input_layer, hid_layer_3])\n",
    "output_layer = Dense(3, activation='softmax')(conc_layer)"
   ]
  },
  {
   "cell_type": "code",
   "execution_count": 20,
   "id": "30fdaf1d",
   "metadata": {},
   "outputs": [],
   "source": [
    "model = Model(inputs=[input_layer], outputs=[output_layer])\n",
    "model.compile(optimizer='sgd', loss='sparse_categorical_crossentropy', metrics=['accuracy'])"
   ]
  },
  {
   "cell_type": "code",
   "execution_count": 21,
   "id": "85fc6fd4",
   "metadata": {},
   "outputs": [
    {
     "name": "stdout",
     "output_type": "stream",
     "text": [
      "Epoch 1/24\n",
      "\u001b[1m4/4\u001b[0m \u001b[32m━━━━━━━━━━━━━━━━━━━━\u001b[0m\u001b[37m\u001b[0m \u001b[1m0s\u001b[0m 38ms/step - accuracy: 0.5784 - loss: 1.0232 - val_accuracy: 0.7778 - val_loss: 0.9130\n",
      "Epoch 2/24\n"
     ]
    },
    {
     "name": "stderr",
     "output_type": "stream",
     "text": [
      "/home/aqr/Desktop/DeepLearning/.venv/lib/python3.12/site-packages/tensorflow/python/data/ops/structured_function.py:258: UserWarning: Even though the `tf.config.experimental_run_functions_eagerly` option is set, this option does not apply to tf.data functions. To force eager execution of tf.data functions, please use `tf.data.experimental.enable_debug_mode()`.\n",
      "  warnings.warn(\n"
     ]
    },
    {
     "name": "stdout",
     "output_type": "stream",
     "text": [
      "\u001b[1m4/4\u001b[0m \u001b[32m━━━━━━━━━━━━━━━━━━━━\u001b[0m\u001b[37m\u001b[0m \u001b[1m0s\u001b[0m 31ms/step - accuracy: 0.6176 - loss: 0.9889 - val_accuracy: 0.7778 - val_loss: 0.8757\n",
      "Epoch 3/24\n",
      "\u001b[1m4/4\u001b[0m \u001b[32m━━━━━━━━━━━━━━━━━━━━\u001b[0m\u001b[37m\u001b[0m \u001b[1m0s\u001b[0m 29ms/step - accuracy: 0.6569 - loss: 0.9555 - val_accuracy: 0.7778 - val_loss: 0.8438\n",
      "Epoch 4/24\n",
      "\u001b[1m4/4\u001b[0m \u001b[32m━━━━━━━━━━━━━━━━━━━━\u001b[0m\u001b[37m\u001b[0m \u001b[1m0s\u001b[0m 30ms/step - accuracy: 0.6765 - loss: 0.9269 - val_accuracy: 0.7778 - val_loss: 0.8124\n",
      "Epoch 5/24\n",
      "\u001b[1m4/4\u001b[0m \u001b[32m━━━━━━━━━━━━━━━━━━━━\u001b[0m\u001b[37m\u001b[0m \u001b[1m0s\u001b[0m 57ms/step - accuracy: 0.6961 - loss: 0.8984 - val_accuracy: 0.7778 - val_loss: 0.7820\n",
      "Epoch 6/24\n",
      "\u001b[1m4/4\u001b[0m \u001b[32m━━━━━━━━━━━━━━━━━━━━\u001b[0m\u001b[37m\u001b[0m \u001b[1m0s\u001b[0m 28ms/step - accuracy: 0.7255 - loss: 0.8715 - val_accuracy: 0.8333 - val_loss: 0.7552\n",
      "Epoch 7/24\n",
      "\u001b[1m4/4\u001b[0m \u001b[32m━━━━━━━━━━━━━━━━━━━━\u001b[0m\u001b[37m\u001b[0m \u001b[1m0s\u001b[0m 28ms/step - accuracy: 0.7451 - loss: 0.8470 - val_accuracy: 0.8889 - val_loss: 0.7288\n",
      "Epoch 8/24\n",
      "\u001b[1m4/4\u001b[0m \u001b[32m━━━━━━━━━━━━━━━━━━━━\u001b[0m\u001b[37m\u001b[0m \u001b[1m0s\u001b[0m 28ms/step - accuracy: 0.7549 - loss: 0.8235 - val_accuracy: 0.8889 - val_loss: 0.7072\n",
      "Epoch 9/24\n",
      "\u001b[1m4/4\u001b[0m \u001b[32m━━━━━━━━━━━━━━━━━━━━\u001b[0m\u001b[37m\u001b[0m \u001b[1m0s\u001b[0m 27ms/step - accuracy: 0.7647 - loss: 0.8039 - val_accuracy: 0.8889 - val_loss: 0.6868\n",
      "Epoch 10/24\n",
      "\u001b[1m4/4\u001b[0m \u001b[32m━━━━━━━━━━━━━━━━━━━━\u001b[0m\u001b[37m\u001b[0m \u001b[1m0s\u001b[0m 28ms/step - accuracy: 0.7843 - loss: 0.7842 - val_accuracy: 0.8889 - val_loss: 0.6660\n",
      "Epoch 11/24\n",
      "\u001b[1m4/4\u001b[0m \u001b[32m━━━━━━━━━━━━━━━━━━━━\u001b[0m\u001b[37m\u001b[0m \u001b[1m0s\u001b[0m 28ms/step - accuracy: 0.7843 - loss: 0.7658 - val_accuracy: 0.8889 - val_loss: 0.6485\n",
      "Epoch 12/24\n",
      "\u001b[1m4/4\u001b[0m \u001b[32m━━━━━━━━━━━━━━━━━━━━\u001b[0m\u001b[37m\u001b[0m \u001b[1m0s\u001b[0m 28ms/step - accuracy: 0.7941 - loss: 0.7499 - val_accuracy: 0.8889 - val_loss: 0.6335\n",
      "Epoch 13/24\n",
      "\u001b[1m4/4\u001b[0m \u001b[32m━━━━━━━━━━━━━━━━━━━━\u001b[0m\u001b[37m\u001b[0m \u001b[1m0s\u001b[0m 30ms/step - accuracy: 0.7941 - loss: 0.7352 - val_accuracy: 0.8889 - val_loss: 0.6186\n",
      "Epoch 14/24\n",
      "\u001b[1m4/4\u001b[0m \u001b[32m━━━━━━━━━━━━━━━━━━━━\u001b[0m\u001b[37m\u001b[0m \u001b[1m0s\u001b[0m 29ms/step - accuracy: 0.8039 - loss: 0.7209 - val_accuracy: 0.8889 - val_loss: 0.6030\n",
      "Epoch 15/24\n",
      "\u001b[1m4/4\u001b[0m \u001b[32m━━━━━━━━━━━━━━━━━━━━\u001b[0m\u001b[37m\u001b[0m \u001b[1m0s\u001b[0m 30ms/step - accuracy: 0.8039 - loss: 0.7065 - val_accuracy: 0.8889 - val_loss: 0.5889\n",
      "Epoch 16/24\n",
      "\u001b[1m4/4\u001b[0m \u001b[32m━━━━━━━━━━━━━━━━━━━━\u001b[0m\u001b[37m\u001b[0m \u001b[1m0s\u001b[0m 27ms/step - accuracy: 0.8039 - loss: 0.6930 - val_accuracy: 0.8889 - val_loss: 0.5757\n",
      "Epoch 17/24\n",
      "\u001b[1m4/4\u001b[0m \u001b[32m━━━━━━━━━━━━━━━━━━━━\u001b[0m\u001b[37m\u001b[0m \u001b[1m0s\u001b[0m 27ms/step - accuracy: 0.8039 - loss: 0.6806 - val_accuracy: 0.8889 - val_loss: 0.5633\n",
      "Epoch 18/24\n",
      "\u001b[1m4/4\u001b[0m \u001b[32m━━━━━━━━━━━━━━━━━━━━\u001b[0m\u001b[37m\u001b[0m \u001b[1m0s\u001b[0m 48ms/step - accuracy: 0.7941 - loss: 0.6691 - val_accuracy: 0.8889 - val_loss: 0.5516\n",
      "Epoch 19/24\n",
      "\u001b[1m4/4\u001b[0m \u001b[32m━━━━━━━━━━━━━━━━━━━━\u001b[0m\u001b[37m\u001b[0m \u001b[1m0s\u001b[0m 27ms/step - accuracy: 0.8039 - loss: 0.6582 - val_accuracy: 0.8889 - val_loss: 0.5408\n",
      "Epoch 20/24\n",
      "\u001b[1m4/4\u001b[0m \u001b[32m━━━━━━━━━━━━━━━━━━━━\u001b[0m\u001b[37m\u001b[0m \u001b[1m0s\u001b[0m 28ms/step - accuracy: 0.8039 - loss: 0.6479 - val_accuracy: 0.8889 - val_loss: 0.5302\n",
      "Epoch 21/24\n",
      "\u001b[1m4/4\u001b[0m \u001b[32m━━━━━━━━━━━━━━━━━━━━\u001b[0m\u001b[37m\u001b[0m \u001b[1m0s\u001b[0m 28ms/step - accuracy: 0.8039 - loss: 0.6377 - val_accuracy: 0.8889 - val_loss: 0.5204\n",
      "Epoch 22/24\n",
      "\u001b[1m4/4\u001b[0m \u001b[32m━━━━━━━━━━━━━━━━━━━━\u001b[0m\u001b[37m\u001b[0m \u001b[1m0s\u001b[0m 27ms/step - accuracy: 0.8039 - loss: 0.6286 - val_accuracy: 0.8889 - val_loss: 0.5119\n",
      "Epoch 23/24\n",
      "\u001b[1m4/4\u001b[0m \u001b[32m━━━━━━━━━━━━━━━━━━━━\u001b[0m\u001b[37m\u001b[0m \u001b[1m0s\u001b[0m 36ms/step - accuracy: 0.8039 - loss: 0.6201 - val_accuracy: 0.8889 - val_loss: 0.5040\n",
      "Epoch 24/24\n",
      "\u001b[1m4/4\u001b[0m \u001b[32m━━━━━━━━━━━━━━━━━━━━\u001b[0m\u001b[37m\u001b[0m \u001b[1m0s\u001b[0m 28ms/step - accuracy: 0.8039 - loss: 0.6119 - val_accuracy: 0.8889 - val_loss: 0.4952\n"
     ]
    },
    {
     "data": {
      "text/html": [
       "<pre style=\"white-space:pre;overflow-x:auto;line-height:normal;font-family:Menlo,'DejaVu Sans Mono',consolas,'Courier New',monospace\"><span style=\"font-weight: bold\">Model: \"functional_2\"</span>\n",
       "</pre>\n"
      ],
      "text/plain": [
       "\u001b[1mModel: \"functional_2\"\u001b[0m\n"
      ]
     },
     "metadata": {},
     "output_type": "display_data"
    },
    {
     "data": {
      "text/html": [
       "<pre style=\"white-space:pre;overflow-x:auto;line-height:normal;font-family:Menlo,'DejaVu Sans Mono',consolas,'Courier New',monospace\">┏━━━━━━━━━━━━━━━━━━━━━┳━━━━━━━━━━━━━━━━━━━┳━━━━━━━━━━━━┳━━━━━━━━━━━━━━━━━━━┓\n",
       "┃<span style=\"font-weight: bold\"> Layer (type)        </span>┃<span style=\"font-weight: bold\"> Output Shape      </span>┃<span style=\"font-weight: bold\">    Param # </span>┃<span style=\"font-weight: bold\"> Connected to      </span>┃\n",
       "┡━━━━━━━━━━━━━━━━━━━━━╇━━━━━━━━━━━━━━━━━━━╇━━━━━━━━━━━━╇━━━━━━━━━━━━━━━━━━━┩\n",
       "│ input_layer_1       │ (<span style=\"color: #00d7ff; text-decoration-color: #00d7ff\">None</span>, <span style=\"color: #00af00; text-decoration-color: #00af00\">4</span>)         │          <span style=\"color: #00af00; text-decoration-color: #00af00\">0</span> │ -                 │\n",
       "│ (<span style=\"color: #0087ff; text-decoration-color: #0087ff\">InputLayer</span>)        │                   │            │                   │\n",
       "├─────────────────────┼───────────────────┼────────────┼───────────────────┤\n",
       "│ dense_7 (<span style=\"color: #0087ff; text-decoration-color: #0087ff\">Dense</span>)     │ (<span style=\"color: #00d7ff; text-decoration-color: #00d7ff\">None</span>, <span style=\"color: #00af00; text-decoration-color: #00af00\">128</span>)       │        <span style=\"color: #00af00; text-decoration-color: #00af00\">640</span> │ input_layer_1[<span style=\"color: #00af00; text-decoration-color: #00af00\">0</span>]… │\n",
       "├─────────────────────┼───────────────────┼────────────┼───────────────────┤\n",
       "│ dense_8 (<span style=\"color: #0087ff; text-decoration-color: #0087ff\">Dense</span>)     │ (<span style=\"color: #00d7ff; text-decoration-color: #00d7ff\">None</span>, <span style=\"color: #00af00; text-decoration-color: #00af00\">128</span>)       │     <span style=\"color: #00af00; text-decoration-color: #00af00\">16,512</span> │ dense_7[<span style=\"color: #00af00; text-decoration-color: #00af00\">0</span>][<span style=\"color: #00af00; text-decoration-color: #00af00\">0</span>]     │\n",
       "├─────────────────────┼───────────────────┼────────────┼───────────────────┤\n",
       "│ dense_9 (<span style=\"color: #0087ff; text-decoration-color: #0087ff\">Dense</span>)     │ (<span style=\"color: #00d7ff; text-decoration-color: #00d7ff\">None</span>, <span style=\"color: #00af00; text-decoration-color: #00af00\">32</span>)        │      <span style=\"color: #00af00; text-decoration-color: #00af00\">4,128</span> │ dense_8[<span style=\"color: #00af00; text-decoration-color: #00af00\">0</span>][<span style=\"color: #00af00; text-decoration-color: #00af00\">0</span>]     │\n",
       "├─────────────────────┼───────────────────┼────────────┼───────────────────┤\n",
       "│ concatenate_1       │ (<span style=\"color: #00d7ff; text-decoration-color: #00d7ff\">None</span>, <span style=\"color: #00af00; text-decoration-color: #00af00\">36</span>)        │          <span style=\"color: #00af00; text-decoration-color: #00af00\">0</span> │ input_layer_1[<span style=\"color: #00af00; text-decoration-color: #00af00\">0</span>]… │\n",
       "│ (<span style=\"color: #0087ff; text-decoration-color: #0087ff\">Concatenate</span>)       │                   │            │ dense_9[<span style=\"color: #00af00; text-decoration-color: #00af00\">0</span>][<span style=\"color: #00af00; text-decoration-color: #00af00\">0</span>]     │\n",
       "├─────────────────────┼───────────────────┼────────────┼───────────────────┤\n",
       "│ dense_10 (<span style=\"color: #0087ff; text-decoration-color: #0087ff\">Dense</span>)    │ (<span style=\"color: #00d7ff; text-decoration-color: #00d7ff\">None</span>, <span style=\"color: #00af00; text-decoration-color: #00af00\">3</span>)         │        <span style=\"color: #00af00; text-decoration-color: #00af00\">111</span> │ concatenate_1[<span style=\"color: #00af00; text-decoration-color: #00af00\">0</span>]… │\n",
       "└─────────────────────┴───────────────────┴────────────┴───────────────────┘\n",
       "</pre>\n"
      ],
      "text/plain": [
       "┏━━━━━━━━━━━━━━━━━━━━━┳━━━━━━━━━━━━━━━━━━━┳━━━━━━━━━━━━┳━━━━━━━━━━━━━━━━━━━┓\n",
       "┃\u001b[1m \u001b[0m\u001b[1mLayer (type)       \u001b[0m\u001b[1m \u001b[0m┃\u001b[1m \u001b[0m\u001b[1mOutput Shape     \u001b[0m\u001b[1m \u001b[0m┃\u001b[1m \u001b[0m\u001b[1m   Param #\u001b[0m\u001b[1m \u001b[0m┃\u001b[1m \u001b[0m\u001b[1mConnected to     \u001b[0m\u001b[1m \u001b[0m┃\n",
       "┡━━━━━━━━━━━━━━━━━━━━━╇━━━━━━━━━━━━━━━━━━━╇━━━━━━━━━━━━╇━━━━━━━━━━━━━━━━━━━┩\n",
       "│ input_layer_1       │ (\u001b[38;5;45mNone\u001b[0m, \u001b[38;5;34m4\u001b[0m)         │          \u001b[38;5;34m0\u001b[0m │ -                 │\n",
       "│ (\u001b[38;5;33mInputLayer\u001b[0m)        │                   │            │                   │\n",
       "├─────────────────────┼───────────────────┼────────────┼───────────────────┤\n",
       "│ dense_7 (\u001b[38;5;33mDense\u001b[0m)     │ (\u001b[38;5;45mNone\u001b[0m, \u001b[38;5;34m128\u001b[0m)       │        \u001b[38;5;34m640\u001b[0m │ input_layer_1[\u001b[38;5;34m0\u001b[0m]… │\n",
       "├─────────────────────┼───────────────────┼────────────┼───────────────────┤\n",
       "│ dense_8 (\u001b[38;5;33mDense\u001b[0m)     │ (\u001b[38;5;45mNone\u001b[0m, \u001b[38;5;34m128\u001b[0m)       │     \u001b[38;5;34m16,512\u001b[0m │ dense_7[\u001b[38;5;34m0\u001b[0m][\u001b[38;5;34m0\u001b[0m]     │\n",
       "├─────────────────────┼───────────────────┼────────────┼───────────────────┤\n",
       "│ dense_9 (\u001b[38;5;33mDense\u001b[0m)     │ (\u001b[38;5;45mNone\u001b[0m, \u001b[38;5;34m32\u001b[0m)        │      \u001b[38;5;34m4,128\u001b[0m │ dense_8[\u001b[38;5;34m0\u001b[0m][\u001b[38;5;34m0\u001b[0m]     │\n",
       "├─────────────────────┼───────────────────┼────────────┼───────────────────┤\n",
       "│ concatenate_1       │ (\u001b[38;5;45mNone\u001b[0m, \u001b[38;5;34m36\u001b[0m)        │          \u001b[38;5;34m0\u001b[0m │ input_layer_1[\u001b[38;5;34m0\u001b[0m]… │\n",
       "│ (\u001b[38;5;33mConcatenate\u001b[0m)       │                   │            │ dense_9[\u001b[38;5;34m0\u001b[0m][\u001b[38;5;34m0\u001b[0m]     │\n",
       "├─────────────────────┼───────────────────┼────────────┼───────────────────┤\n",
       "│ dense_10 (\u001b[38;5;33mDense\u001b[0m)    │ (\u001b[38;5;45mNone\u001b[0m, \u001b[38;5;34m3\u001b[0m)         │        \u001b[38;5;34m111\u001b[0m │ concatenate_1[\u001b[38;5;34m0\u001b[0m]… │\n",
       "└─────────────────────┴───────────────────┴────────────┴───────────────────┘\n"
      ]
     },
     "metadata": {},
     "output_type": "display_data"
    },
    {
     "data": {
      "text/html": [
       "<pre style=\"white-space:pre;overflow-x:auto;line-height:normal;font-family:Menlo,'DejaVu Sans Mono',consolas,'Courier New',monospace\"><span style=\"font-weight: bold\"> Total params: </span><span style=\"color: #00af00; text-decoration-color: #00af00\">21,393</span> (83.57 KB)\n",
       "</pre>\n"
      ],
      "text/plain": [
       "\u001b[1m Total params: \u001b[0m\u001b[38;5;34m21,393\u001b[0m (83.57 KB)\n"
      ]
     },
     "metadata": {},
     "output_type": "display_data"
    },
    {
     "data": {
      "text/html": [
       "<pre style=\"white-space:pre;overflow-x:auto;line-height:normal;font-family:Menlo,'DejaVu Sans Mono',consolas,'Courier New',monospace\"><span style=\"font-weight: bold\"> Trainable params: </span><span style=\"color: #00af00; text-decoration-color: #00af00\">21,391</span> (83.56 KB)\n",
       "</pre>\n"
      ],
      "text/plain": [
       "\u001b[1m Trainable params: \u001b[0m\u001b[38;5;34m21,391\u001b[0m (83.56 KB)\n"
      ]
     },
     "metadata": {},
     "output_type": "display_data"
    },
    {
     "data": {
      "text/html": [
       "<pre style=\"white-space:pre;overflow-x:auto;line-height:normal;font-family:Menlo,'DejaVu Sans Mono',consolas,'Courier New',monospace\"><span style=\"font-weight: bold\"> Non-trainable params: </span><span style=\"color: #00af00; text-decoration-color: #00af00\">0</span> (0.00 B)\n",
       "</pre>\n"
      ],
      "text/plain": [
       "\u001b[1m Non-trainable params: \u001b[0m\u001b[38;5;34m0\u001b[0m (0.00 B)\n"
      ]
     },
     "metadata": {},
     "output_type": "display_data"
    },
    {
     "data": {
      "text/html": [
       "<pre style=\"white-space:pre;overflow-x:auto;line-height:normal;font-family:Menlo,'DejaVu Sans Mono',consolas,'Courier New',monospace\"><span style=\"font-weight: bold\"> Optimizer params: </span><span style=\"color: #00af00; text-decoration-color: #00af00\">2</span> (12.00 B)\n",
       "</pre>\n"
      ],
      "text/plain": [
       "\u001b[1m Optimizer params: \u001b[0m\u001b[38;5;34m2\u001b[0m (12.00 B)\n"
      ]
     },
     "metadata": {},
     "output_type": "display_data"
    }
   ],
   "source": [
    "fit_history = model.fit(x_train, y_train, epochs=24, validation_data=(x_val, y_val))\n",
    "model.summary()"
   ]
  },
  {
   "cell_type": "code",
   "execution_count": 22,
   "id": "b9dd9cfd",
   "metadata": {},
   "outputs": [
    {
     "name": "stdout",
     "output_type": "stream",
     "text": [
      "1/1 - 0s - 39ms/step - accuracy: 0.8333 - loss: 0.4753\n"
     ]
    },
    {
     "data": {
      "text/plain": [
       "[0.47527140378952026, 0.8333333134651184]"
      ]
     },
     "execution_count": 22,
     "metadata": {},
     "output_type": "execute_result"
    }
   ],
   "source": [
    "model.evaluate(x_test, y_test, verbose=2)"
   ]
  },
  {
   "cell_type": "markdown",
   "id": "4acae9a3",
   "metadata": {},
   "source": [
    "# Multiple Inputs & Outputs"
   ]
  },
  {
   "cell_type": "code",
   "execution_count": 23,
   "id": "cdd193e5",
   "metadata": {},
   "outputs": [],
   "source": [
    "from sklearn.datasets import make_classification\n",
    "\n",
    "way_x, way_y = make_classification(\n",
    "    n_samples=12456,\n",
    "    n_features=12,\n",
    "    n_informative=5,\n",
    "    n_redundant=6,\n",
    "    random_state=42,\n",
    "    n_classes=4,\n",
    "    n_clusters_per_class=2,\n",
    "    return_X_y=True,\n",
    "    scale=71,\n",
    ")\n",
    "\n",
    "scaled_x = StandardScaler().fit_transform(x)"
   ]
  },
  {
   "cell_type": "code",
   "execution_count": 24,
   "id": "e0294e6e",
   "metadata": {},
   "outputs": [
    {
     "data": {
      "text/plain": [
       "12    1.000000\n",
       "1     0.365751\n",
       "8     0.361266\n",
       "9     0.343464\n",
       "2     0.210523\n",
       "6     0.206035\n",
       "10    0.158553\n",
       "0     0.093228\n",
       "11    0.076650\n",
       "3     0.071173\n",
       "4     0.054401\n",
       "5     0.014130\n",
       "7     0.001184\n",
       "Name: 12, dtype: float64"
      ]
     },
     "execution_count": 24,
     "metadata": {},
     "output_type": "execute_result"
    }
   ],
   "source": [
    "import pandas as pd\n",
    "\n",
    "np.abs(pd.DataFrame(np.hstack([way_x, way_y.reshape(-1, 1)])).corr()[12]).sort_values(\n",
    "    ascending=False\n",
    ")"
   ]
  },
  {
   "cell_type": "code",
   "execution_count": 25,
   "id": "0983a2d8",
   "metadata": {},
   "outputs": [],
   "source": [
    "way_x_1, way_x_2, way_y_1, way_y_2 = train_test_split(\n",
    "    way_x, way_y, random_state=4, test_size=0.5\n",
    ")\n",
    "\n",
    "input_layer_2 = Input(shape=(way_x_2.shape[1],), name=\"Input2\")\n",
    "hidden_layer_1 = Dense(128, activation=\"relu\",)(input_layer_2)\n",
    "output_layer_2 = Dense(len(np.unique(way_y_2)), activation=\"softmax\", name=\"Output2\")(hidden_layer_1)\n",
    "\n",
    "input_layer_1 = Input(shape=(way_x_1.shape[1],), name=\"Input1\")\n",
    "hidden_layer_2 = Dense(256, activation=\"tanh\")(input_layer_1)\n",
    "hidden_layer_3 = Dense(128, activation=\"relu\")(hidden_layer_2)\n",
    "output_layer_1 = Dense(len(np.unique(way_y_1)), activation=\"softmax\", name=\"Output1\")(hidden_layer_3)"
   ]
  },
  {
   "cell_type": "code",
   "execution_count": 26,
   "id": "472976b7",
   "metadata": {},
   "outputs": [],
   "source": [
    "way_model = Model(inputs=[input_layer_1, input_layer_2], outputs=[output_layer_1, output_layer_2])\n",
    "\n",
    "way_model.compile(optimizer=\"sgd\", loss=[\"sparse_categorical_crossentropy\", \"sparse_categorical_crossentropy\"], metrics=[\"accuracy\", \"accuracy\"], loss_weights=[0.4, 0.6])"
   ]
  },
  {
   "cell_type": "code",
   "execution_count": 27,
   "id": "bd6571ab",
   "metadata": {},
   "outputs": [
    {
     "name": "stdout",
     "output_type": "stream",
     "text": [
      "Epoch 1/10\n",
      "\u001b[1m  8/195\u001b[0m \u001b[37m━━━━━━━━━━━━━━━━━━━━\u001b[0m \u001b[1m3s\u001b[0m 17ms/step - Output1_accuracy: 0.2558 - Output1_loss: 1.8036 - Output2_accuracy: 0.3778 - Output2_loss: 52.7226 - loss: 32.3550"
     ]
    },
    {
     "name": "stderr",
     "output_type": "stream",
     "text": [
      "/home/aqr/Desktop/DeepLearning/.venv/lib/python3.12/site-packages/tensorflow/python/data/ops/structured_function.py:258: UserWarning: Even though the `tf.config.experimental_run_functions_eagerly` option is set, this option does not apply to tf.data functions. To force eager execution of tf.data functions, please use `tf.data.experimental.enable_debug_mode()`.\n",
      "  warnings.warn(\n"
     ]
    },
    {
     "name": "stdout",
     "output_type": "stream",
     "text": [
      "\u001b[1m195/195\u001b[0m \u001b[32m━━━━━━━━━━━━━━━━━━━━\u001b[0m\u001b[37m\u001b[0m \u001b[1m4s\u001b[0m 18ms/step - Output1_accuracy: 0.6896 - Output1_loss: 0.8188 - Output2_accuracy: 0.7099 - Output2_loss: 6.9447 - loss: 4.4943 \n",
      "Epoch 2/10\n",
      "\u001b[1m195/195\u001b[0m \u001b[32m━━━━━━━━━━━━━━━━━━━━\u001b[0m\u001b[37m\u001b[0m \u001b[1m4s\u001b[0m 18ms/step - Output1_accuracy: 0.8168 - Output1_loss: 0.5473 - Output2_accuracy: 0.7431 - Output2_loss: 1.7558 - loss: 1.2724\n",
      "Epoch 3/10\n",
      "\u001b[1m195/195\u001b[0m \u001b[32m━━━━━━━━━━━━━━━━━━━━\u001b[0m\u001b[37m\u001b[0m \u001b[1m3s\u001b[0m 17ms/step - Output1_accuracy: 0.8359 - Output1_loss: 0.4851 - Output2_accuracy: 0.7598 - Output2_loss: 1.0761 - loss: 0.8397\n",
      "Epoch 4/10\n",
      "\u001b[1m195/195\u001b[0m \u001b[32m━━━━━━━━━━━━━━━━━━━━\u001b[0m\u001b[37m\u001b[0m \u001b[1m4s\u001b[0m 18ms/step - Output1_accuracy: 0.8500 - Output1_loss: 0.4514 - Output2_accuracy: 0.7791 - Output2_loss: 0.7962 - loss: 0.6583\n",
      "Epoch 5/10\n",
      "\u001b[1m195/195\u001b[0m \u001b[32m━━━━━━━━━━━━━━━━━━━━\u001b[0m\u001b[37m\u001b[0m \u001b[1m3s\u001b[0m 17ms/step - Output1_accuracy: 0.8550 - Output1_loss: 0.4261 - Output2_accuracy: 0.7890 - Output2_loss: 0.6731 - loss: 0.5743\n",
      "Epoch 6/10\n",
      "\u001b[1m195/195\u001b[0m \u001b[32m━━━━━━━━━━━━━━━━━━━━\u001b[0m\u001b[37m\u001b[0m \u001b[1m4s\u001b[0m 18ms/step - Output1_accuracy: 0.8598 - Output1_loss: 0.4104 - Output2_accuracy: 0.7962 - Output2_loss: 0.6149 - loss: 0.5331\n",
      "Epoch 7/10\n",
      "\u001b[1m195/195\u001b[0m \u001b[32m━━━━━━━━━━━━━━━━━━━━\u001b[0m\u001b[37m\u001b[0m \u001b[1m3s\u001b[0m 18ms/step - Output1_accuracy: 0.8645 - Output1_loss: 0.3971 - Output2_accuracy: 0.7970 - Output2_loss: 0.6077 - loss: 0.5235\n",
      "Epoch 8/10\n",
      "\u001b[1m195/195\u001b[0m \u001b[32m━━━━━━━━━━━━━━━━━━━━\u001b[0m\u001b[37m\u001b[0m \u001b[1m4s\u001b[0m 19ms/step - Output1_accuracy: 0.8743 - Output1_loss: 0.3850 - Output2_accuracy: 0.8023 - Output2_loss: 0.5717 - loss: 0.4970\n",
      "Epoch 9/10\n",
      "\u001b[1m195/195\u001b[0m \u001b[32m━━━━━━━━━━━━━━━━━━━━\u001b[0m\u001b[37m\u001b[0m \u001b[1m4s\u001b[0m 18ms/step - Output1_accuracy: 0.8738 - Output1_loss: 0.3745 - Output2_accuracy: 0.8023 - Output2_loss: 0.5702 - loss: 0.4919\n",
      "Epoch 10/10\n",
      "\u001b[1m195/195\u001b[0m \u001b[32m━━━━━━━━━━━━━━━━━━━━\u001b[0m\u001b[37m\u001b[0m \u001b[1m4s\u001b[0m 18ms/step - Output1_accuracy: 0.8757 - Output1_loss: 0.3687 - Output2_accuracy: 0.8035 - Output2_loss: 0.5657 - loss: 0.4869\n"
     ]
    },
    {
     "data": {
      "text/plain": [
       "<keras.src.callbacks.history.History at 0x7392ec6aabd0>"
      ]
     },
     "execution_count": 27,
     "metadata": {},
     "output_type": "execute_result"
    }
   ],
   "source": [
    "way_model.fit([way_x_1, way_x_2], [way_y_1, way_y_2], epochs=10,)"
   ]
  },
  {
   "cell_type": "code",
   "execution_count": 28,
   "id": "b0fb267e",
   "metadata": {},
   "outputs": [
    {
     "name": "stderr",
     "output_type": "stream",
     "text": [
      "WARNING:absl:You are saving your model as an HDF5 file via `model.save()` or `keras.saving.save_model(model)`. This file format is considered legacy. We recommend using instead the native Keras format, e.g. `model.save('my_model.keras')` or `keras.saving.save_model(model, 'my_model.keras')`. \n"
     ]
    }
   ],
   "source": [
    "way_model.save(\"saved_models/way_model.h5\")"
   ]
  },
  {
   "cell_type": "markdown",
   "id": "0e3b3237",
   "metadata": {},
   "source": [
    "# Callback API"
   ]
  },
  {
   "cell_type": "code",
   "execution_count": 32,
   "id": "3ca95c03",
   "metadata": {},
   "outputs": [
    {
     "name": "stderr",
     "output_type": "stream",
     "text": [
      "WARNING:absl:Compiled the loaded model, but the compiled metrics have yet to be built. `model.compile_metrics` will be empty until you train or evaluate the model.\n"
     ]
    }
   ],
   "source": [
    "# del way_model\n",
    "\n",
    "way_model_loaded = keras.models.load_model(\"saved_models/way_model.h5\")\n",
    "my_callbacks = [\n",
    "    keras.callbacks.EarlyStopping(\n",
    "        patience=15, restore_best_weights=True, monitor=\"val_loss\", verbose=0\n",
    "    ),\n",
    "    keras.callbacks.ModelCheckpoint(\"saved_models/way_model.keras\", save_best_only=True),\n",
    "    keras.callbacks.ReduceLROnPlateau(\n",
    "        monitor=\"val_loss\", factor=0.2, patience=5, verbose=1, min_lr=0.0001\n",
    "    ),\n",
    "    keras.callbacks.LambdaCallback(on_train_end=lambda logs: print(\"Training ended\")),\n",
    "]"
   ]
  },
  {
   "cell_type": "code",
   "execution_count": 33,
   "id": "2dd739db",
   "metadata": {},
   "outputs": [
    {
     "name": "stdout",
     "output_type": "stream",
     "text": [
      "Epoch 1/100\n",
      "\u001b[1m156/156\u001b[0m \u001b[32m━━━━━━━━━━━━━━━━━━━━\u001b[0m\u001b[37m\u001b[0m \u001b[1m3s\u001b[0m 21ms/step - Output1_accuracy: 0.9045 - Output1_loss: 0.2835 - Output2_accuracy: 0.7937 - Output2_loss: 0.6209 - loss: 0.4860 - val_Output1_accuracy: 0.8692 - val_Output1_loss: 0.3832 - val_Output2_accuracy: 0.8002 - val_Output2_loss: 0.5195 - val_loss: 0.4650 - learning_rate: 0.0100\n",
      "Epoch 2/100\n",
      "\u001b[1m156/156\u001b[0m \u001b[32m━━━━━━━━━━━━━━━━━━━━\u001b[0m\u001b[37m\u001b[0m \u001b[1m3s\u001b[0m 21ms/step - Output1_accuracy: 0.9029 - Output1_loss: 0.2870 - Output2_accuracy: 0.8017 - Output2_loss: 0.5762 - loss: 0.4605 - val_Output1_accuracy: 0.8612 - val_Output1_loss: 0.3895 - val_Output2_accuracy: 0.8162 - val_Output2_loss: 0.4939 - val_loss: 0.4522 - learning_rate: 0.0100\n",
      "Epoch 3/100\n",
      "\u001b[1m156/156\u001b[0m \u001b[32m━━━━━━━━━━━━━━━━━━━━\u001b[0m\u001b[37m\u001b[0m \u001b[1m3s\u001b[0m 21ms/step - Output1_accuracy: 0.9049 - Output1_loss: 0.2827 - Output2_accuracy: 0.8023 - Output2_loss: 0.5958 - loss: 0.4705 - val_Output1_accuracy: 0.8644 - val_Output1_loss: 0.3866 - val_Output2_accuracy: 0.8210 - val_Output2_loss: 0.4932 - val_loss: 0.4505 - learning_rate: 0.0100\n",
      "Epoch 4/100\n",
      "\u001b[1m156/156\u001b[0m \u001b[32m━━━━━━━━━━━━━━━━━━━━\u001b[0m\u001b[37m\u001b[0m \u001b[1m3s\u001b[0m 21ms/step - Output1_accuracy: 0.9055 - Output1_loss: 0.2800 - Output2_accuracy: 0.7971 - Output2_loss: 0.5640 - loss: 0.4504 - val_Output1_accuracy: 0.8604 - val_Output1_loss: 0.3886 - val_Output2_accuracy: 0.6549 - val_Output2_loss: 1.6079 - val_loss: 1.1202 - learning_rate: 0.0100\n",
      "Epoch 5/100\n",
      "\u001b[1m156/156\u001b[0m \u001b[32m━━━━━━━━━━━━━━━━━━━━\u001b[0m\u001b[37m\u001b[0m \u001b[1m3s\u001b[0m 20ms/step - Output1_accuracy: 0.9113 - Output1_loss: 0.2754 - Output2_accuracy: 0.8003 - Output2_loss: 0.5734 - loss: 0.4542 - val_Output1_accuracy: 0.8636 - val_Output1_loss: 0.3925 - val_Output2_accuracy: 0.7729 - val_Output2_loss: 0.5910 - val_loss: 0.5116 - learning_rate: 0.0100\n",
      "Epoch 6/100\n",
      "\u001b[1m156/156\u001b[0m \u001b[32m━━━━━━━━━━━━━━━━━━━━\u001b[0m\u001b[37m\u001b[0m \u001b[1m3s\u001b[0m 19ms/step - Output1_accuracy: 0.9111 - Output1_loss: 0.2716 - Output2_accuracy: 0.7945 - Output2_loss: 0.5701 - loss: 0.4507 - val_Output1_accuracy: 0.8668 - val_Output1_loss: 0.3916 - val_Output2_accuracy: 0.7721 - val_Output2_loss: 0.5869 - val_loss: 0.5088 - learning_rate: 0.0100\n",
      "Epoch 7/100\n",
      "\u001b[1m156/156\u001b[0m \u001b[32m━━━━━━━━━━━━━━━━━━━━\u001b[0m\u001b[37m\u001b[0m \u001b[1m3s\u001b[0m 20ms/step - Output1_accuracy: 0.9121 - Output1_loss: 0.2675 - Output2_accuracy: 0.8041 - Output2_loss: 0.5509 - loss: 0.4375 - val_Output1_accuracy: 0.8660 - val_Output1_loss: 0.3897 - val_Output2_accuracy: 0.7640 - val_Output2_loss: 0.5879 - val_loss: 0.5086 - learning_rate: 0.0100\n",
      "Epoch 8/100\n",
      "\u001b[1m156/156\u001b[0m \u001b[32m━━━━━━━━━━━━━━━━━━━━\u001b[0m\u001b[37m\u001b[0m \u001b[1m0s\u001b[0m 16ms/step - Output1_accuracy: 0.9145 - Output1_loss: 0.2617 - Output2_accuracy: 0.7993 - Output2_loss: 0.5878 - loss: 0.4573\n",
      "Epoch 8: ReduceLROnPlateau reducing learning rate to 0.0019999999552965165.\n",
      "\u001b[1m156/156\u001b[0m \u001b[32m━━━━━━━━━━━━━━━━━━━━\u001b[0m\u001b[37m\u001b[0m \u001b[1m3s\u001b[0m 20ms/step - Output1_accuracy: 0.9121 - Output1_loss: 0.2662 - Output2_accuracy: 0.7997 - Output2_loss: 0.5884 - loss: 0.4595 - val_Output1_accuracy: 0.8660 - val_Output1_loss: 0.3893 - val_Output2_accuracy: 0.7921 - val_Output2_loss: 0.5457 - val_loss: 0.4832 - learning_rate: 0.0100\n",
      "Epoch 9/100\n",
      "\u001b[1m156/156\u001b[0m \u001b[32m━━━━━━━━━━━━━━━━━━━━\u001b[0m\u001b[37m\u001b[0m \u001b[1m3s\u001b[0m 20ms/step - Output1_accuracy: 0.9215 - Output1_loss: 0.2472 - Output2_accuracy: 0.8414 - Output2_loss: 0.4380 - loss: 0.3617 - val_Output1_accuracy: 0.8612 - val_Output1_loss: 0.3888 - val_Output2_accuracy: 0.8475 - val_Output2_loss: 0.3906 - val_loss: 0.3899 - learning_rate: 0.0020\n",
      "Epoch 10/100\n",
      "\u001b[1m156/156\u001b[0m \u001b[32m━━━━━━━━━━━━━━━━━━━━\u001b[0m\u001b[37m\u001b[0m \u001b[1m3s\u001b[0m 20ms/step - Output1_accuracy: 0.9267 - Output1_loss: 0.2393 - Output2_accuracy: 0.8489 - Output2_loss: 0.4224 - loss: 0.3492 - val_Output1_accuracy: 0.8612 - val_Output1_loss: 0.3896 - val_Output2_accuracy: 0.8451 - val_Output2_loss: 0.3897 - val_loss: 0.3897 - learning_rate: 0.0020\n",
      "Epoch 11/100\n",
      "\u001b[1m156/156\u001b[0m \u001b[32m━━━━━━━━━━━━━━━━━━━━\u001b[0m\u001b[37m\u001b[0m \u001b[1m3s\u001b[0m 20ms/step - Output1_accuracy: 0.9267 - Output1_loss: 0.2359 - Output2_accuracy: 0.8547 - Output2_loss: 0.4147 - loss: 0.3431 - val_Output1_accuracy: 0.8620 - val_Output1_loss: 0.3897 - val_Output2_accuracy: 0.8571 - val_Output2_loss: 0.3752 - val_loss: 0.3810 - learning_rate: 0.0020\n",
      "Epoch 12/100\n",
      "\u001b[1m156/156\u001b[0m \u001b[32m━━━━━━━━━━━━━━━━━━━━\u001b[0m\u001b[37m\u001b[0m \u001b[1m3s\u001b[0m 19ms/step - Output1_accuracy: 0.9269 - Output1_loss: 0.2341 - Output2_accuracy: 0.8537 - Output2_loss: 0.4133 - loss: 0.3417 - val_Output1_accuracy: 0.8660 - val_Output1_loss: 0.3904 - val_Output2_accuracy: 0.8459 - val_Output2_loss: 0.3952 - val_loss: 0.3933 - learning_rate: 0.0020\n",
      "Epoch 13/100\n",
      "\u001b[1m156/156\u001b[0m \u001b[32m━━━━━━━━━━━━━━━━━━━━\u001b[0m\u001b[37m\u001b[0m \u001b[1m3s\u001b[0m 20ms/step - Output1_accuracy: 0.9283 - Output1_loss: 0.2324 - Output2_accuracy: 0.8551 - Output2_loss: 0.4129 - loss: 0.3407 - val_Output1_accuracy: 0.8668 - val_Output1_loss: 0.3912 - val_Output2_accuracy: 0.8612 - val_Output2_loss: 0.3685 - val_loss: 0.3775 - learning_rate: 0.0020\n",
      "Epoch 14/100\n",
      "\u001b[1m156/156\u001b[0m \u001b[32m━━━━━━━━━━━━━━━━━━━━\u001b[0m\u001b[37m\u001b[0m \u001b[1m3s\u001b[0m 20ms/step - Output1_accuracy: 0.9275 - Output1_loss: 0.2311 - Output2_accuracy: 0.8545 - Output2_loss: 0.4094 - loss: 0.3381 - val_Output1_accuracy: 0.8644 - val_Output1_loss: 0.3911 - val_Output2_accuracy: 0.8563 - val_Output2_loss: 0.3691 - val_loss: 0.3779 - learning_rate: 0.0020\n",
      "Epoch 15/100\n",
      "\u001b[1m156/156\u001b[0m \u001b[32m━━━━━━━━━━━━━━━━━━━━\u001b[0m\u001b[37m\u001b[0m \u001b[1m3s\u001b[0m 20ms/step - Output1_accuracy: 0.9289 - Output1_loss: 0.2301 - Output2_accuracy: 0.8561 - Output2_loss: 0.4090 - loss: 0.3374 - val_Output1_accuracy: 0.8652 - val_Output1_loss: 0.3912 - val_Output2_accuracy: 0.8531 - val_Output2_loss: 0.3761 - val_loss: 0.3822 - learning_rate: 0.0020\n",
      "Epoch 16/100\n",
      "\u001b[1m156/156\u001b[0m \u001b[32m━━━━━━━━━━━━━━━━━━━━\u001b[0m\u001b[37m\u001b[0m \u001b[1m3s\u001b[0m 21ms/step - Output1_accuracy: 0.9293 - Output1_loss: 0.2292 - Output2_accuracy: 0.8541 - Output2_loss: 0.4057 - loss: 0.3351 - val_Output1_accuracy: 0.8668 - val_Output1_loss: 0.3905 - val_Output2_accuracy: 0.8604 - val_Output2_loss: 0.3651 - val_loss: 0.3752 - learning_rate: 0.0020\n",
      "Epoch 17/100\n",
      "\u001b[1m156/156\u001b[0m \u001b[32m━━━━━━━━━━━━━━━━━━━━\u001b[0m\u001b[37m\u001b[0m \u001b[1m3s\u001b[0m 20ms/step - Output1_accuracy: 0.9308 - Output1_loss: 0.2283 - Output2_accuracy: 0.8593 - Output2_loss: 0.4035 - loss: 0.3334 - val_Output1_accuracy: 0.8652 - val_Output1_loss: 0.3911 - val_Output2_accuracy: 0.8499 - val_Output2_loss: 0.3891 - val_loss: 0.3899 - learning_rate: 0.0020\n",
      "Epoch 18/100\n",
      "\u001b[1m156/156\u001b[0m \u001b[32m━━━━━━━━━━━━━━━━━━━━\u001b[0m\u001b[37m\u001b[0m \u001b[1m3s\u001b[0m 20ms/step - Output1_accuracy: 0.9301 - Output1_loss: 0.2276 - Output2_accuracy: 0.8545 - Output2_loss: 0.4046 - loss: 0.3338 - val_Output1_accuracy: 0.8644 - val_Output1_loss: 0.3918 - val_Output2_accuracy: 0.8523 - val_Output2_loss: 0.3789 - val_loss: 0.3841 - learning_rate: 0.0020\n",
      "Epoch 19/100\n",
      "\u001b[1m156/156\u001b[0m \u001b[32m━━━━━━━━━━━━━━━━━━━━\u001b[0m\u001b[37m\u001b[0m \u001b[1m3s\u001b[0m 20ms/step - Output1_accuracy: 0.9293 - Output1_loss: 0.2267 - Output2_accuracy: 0.8633 - Output2_loss: 0.3986 - loss: 0.3298 - val_Output1_accuracy: 0.8644 - val_Output1_loss: 0.3921 - val_Output2_accuracy: 0.8515 - val_Output2_loss: 0.3827 - val_loss: 0.3865 - learning_rate: 0.0020\n",
      "Epoch 20/100\n",
      "\u001b[1m156/156\u001b[0m \u001b[32m━━━━━━━━━━━━━━━━━━━━\u001b[0m\u001b[37m\u001b[0m \u001b[1m3s\u001b[0m 20ms/step - Output1_accuracy: 0.9308 - Output1_loss: 0.2257 - Output2_accuracy: 0.8575 - Output2_loss: 0.4028 - loss: 0.3320 - val_Output1_accuracy: 0.8644 - val_Output1_loss: 0.3911 - val_Output2_accuracy: 0.8427 - val_Output2_loss: 0.4025 - val_loss: 0.3979 - learning_rate: 0.0020\n",
      "Epoch 21/100\n",
      "\u001b[1m156/156\u001b[0m \u001b[32m━━━━━━━━━━━━━━━━━━━━\u001b[0m\u001b[37m\u001b[0m \u001b[1m0s\u001b[0m 17ms/step - Output1_accuracy: 0.9320 - Output1_loss: 0.2270 - Output2_accuracy: 0.8620 - Output2_loss: 0.3943 - loss: 0.3274\n",
      "Epoch 21: ReduceLROnPlateau reducing learning rate to 0.0003999999724328518.\n",
      "\u001b[1m156/156\u001b[0m \u001b[32m━━━━━━━━━━━━━━━━━━━━\u001b[0m\u001b[37m\u001b[0m \u001b[1m3s\u001b[0m 20ms/step - Output1_accuracy: 0.9308 - Output1_loss: 0.2251 - Output2_accuracy: 0.8585 - Output2_loss: 0.4017 - loss: 0.3310 - val_Output1_accuracy: 0.8644 - val_Output1_loss: 0.3919 - val_Output2_accuracy: 0.8515 - val_Output2_loss: 0.3850 - val_loss: 0.3878 - learning_rate: 0.0020\n",
      "Epoch 22/100\n",
      "\u001b[1m156/156\u001b[0m \u001b[32m━━━━━━━━━━━━━━━━━━━━\u001b[0m\u001b[37m\u001b[0m \u001b[1m3s\u001b[0m 21ms/step - Output1_accuracy: 0.9322 - Output1_loss: 0.2205 - Output2_accuracy: 0.8639 - Output2_loss: 0.3871 - loss: 0.3205 - val_Output1_accuracy: 0.8652 - val_Output1_loss: 0.3918 - val_Output2_accuracy: 0.8636 - val_Output2_loss: 0.3631 - val_loss: 0.3746 - learning_rate: 4.0000e-04\n",
      "Epoch 23/100\n",
      "\u001b[1m156/156\u001b[0m \u001b[32m━━━━━━━━━━━━━━━━━━━━\u001b[0m\u001b[37m\u001b[0m \u001b[1m3s\u001b[0m 20ms/step - Output1_accuracy: 0.9330 - Output1_loss: 0.2201 - Output2_accuracy: 0.8629 - Output2_loss: 0.3836 - loss: 0.3182 - val_Output1_accuracy: 0.8652 - val_Output1_loss: 0.3918 - val_Output2_accuracy: 0.8604 - val_Output2_loss: 0.3656 - val_loss: 0.3761 - learning_rate: 4.0000e-04\n",
      "Epoch 24/100\n",
      "\u001b[1m156/156\u001b[0m \u001b[32m━━━━━━━━━━━━━━━━━━━━\u001b[0m\u001b[37m\u001b[0m \u001b[1m3s\u001b[0m 20ms/step - Output1_accuracy: 0.9330 - Output1_loss: 0.2198 - Output2_accuracy: 0.8641 - Output2_loss: 0.3826 - loss: 0.3175 - val_Output1_accuracy: 0.8652 - val_Output1_loss: 0.3918 - val_Output2_accuracy: 0.8612 - val_Output2_loss: 0.3610 - val_loss: 0.3733 - learning_rate: 4.0000e-04\n",
      "Epoch 25/100\n",
      "\u001b[1m156/156\u001b[0m \u001b[32m━━━━━━━━━━━━━━━━━━━━\u001b[0m\u001b[37m\u001b[0m \u001b[1m3s\u001b[0m 20ms/step - Output1_accuracy: 0.9336 - Output1_loss: 0.2196 - Output2_accuracy: 0.8655 - Output2_loss: 0.3825 - loss: 0.3173 - val_Output1_accuracy: 0.8652 - val_Output1_loss: 0.3919 - val_Output2_accuracy: 0.8596 - val_Output2_loss: 0.3616 - val_loss: 0.3737 - learning_rate: 4.0000e-04\n",
      "Epoch 26/100\n",
      "\u001b[1m156/156\u001b[0m \u001b[32m━━━━━━━━━━━━━━━━━━━━\u001b[0m\u001b[37m\u001b[0m \u001b[1m3s\u001b[0m 20ms/step - Output1_accuracy: 0.9332 - Output1_loss: 0.2194 - Output2_accuracy: 0.8665 - Output2_loss: 0.3820 - loss: 0.3169 - val_Output1_accuracy: 0.8652 - val_Output1_loss: 0.3919 - val_Output2_accuracy: 0.8628 - val_Output2_loss: 0.3623 - val_loss: 0.3742 - learning_rate: 4.0000e-04\n",
      "Epoch 27/100\n",
      "\u001b[1m156/156\u001b[0m \u001b[32m━━━━━━━━━━━━━━━━━━━━\u001b[0m\u001b[37m\u001b[0m \u001b[1m3s\u001b[0m 21ms/step - Output1_accuracy: 0.9338 - Output1_loss: 0.2192 - Output2_accuracy: 0.8667 - Output2_loss: 0.3818 - loss: 0.3168 - val_Output1_accuracy: 0.8652 - val_Output1_loss: 0.3919 - val_Output2_accuracy: 0.8596 - val_Output2_loss: 0.3671 - val_loss: 0.3770 - learning_rate: 4.0000e-04\n",
      "Epoch 28/100\n",
      "\u001b[1m156/156\u001b[0m \u001b[32m━━━━━━━━━━━━━━━━━━━━\u001b[0m\u001b[37m\u001b[0m \u001b[1m3s\u001b[0m 21ms/step - Output1_accuracy: 0.9336 - Output1_loss: 0.2191 - Output2_accuracy: 0.8645 - Output2_loss: 0.3811 - loss: 0.3163 - val_Output1_accuracy: 0.8652 - val_Output1_loss: 0.3920 - val_Output2_accuracy: 0.8636 - val_Output2_loss: 0.3633 - val_loss: 0.3748 - learning_rate: 4.0000e-04\n",
      "Epoch 29/100\n",
      "\u001b[1m155/156\u001b[0m \u001b[32m━━━━━━━━━━━━━━━━━━━\u001b[0m\u001b[37m━\u001b[0m \u001b[1m0s\u001b[0m 17ms/step - Output1_accuracy: 0.9270 - Output1_loss: 0.2327 - Output2_accuracy: 0.8581 - Output2_loss: 0.3815 - loss: 0.3220\n",
      "Epoch 29: ReduceLROnPlateau reducing learning rate to 0.0001.\n",
      "\u001b[1m156/156\u001b[0m \u001b[32m━━━━━━━━━━━━━━━━━━━━\u001b[0m\u001b[37m\u001b[0m \u001b[1m3s\u001b[0m 21ms/step - Output1_accuracy: 0.9338 - Output1_loss: 0.2189 - Output2_accuracy: 0.8647 - Output2_loss: 0.3813 - loss: 0.3163 - val_Output1_accuracy: 0.8652 - val_Output1_loss: 0.3920 - val_Output2_accuracy: 0.8620 - val_Output2_loss: 0.3636 - val_loss: 0.3750 - learning_rate: 4.0000e-04\n",
      "Epoch 30/100\n",
      "\u001b[1m156/156\u001b[0m \u001b[32m━━━━━━━━━━━━━━━━━━━━\u001b[0m\u001b[37m\u001b[0m \u001b[1m3s\u001b[0m 20ms/step - Output1_accuracy: 0.9342 - Output1_loss: 0.2179 - Output2_accuracy: 0.8673 - Output2_loss: 0.3774 - loss: 0.3136 - val_Output1_accuracy: 0.8652 - val_Output1_loss: 0.3920 - val_Output2_accuracy: 0.8587 - val_Output2_loss: 0.3631 - val_loss: 0.3747 - learning_rate: 1.0000e-04\n",
      "Epoch 31/100\n",
      "\u001b[1m156/156\u001b[0m \u001b[32m━━━━━━━━━━━━━━━━━━━━\u001b[0m\u001b[37m\u001b[0m \u001b[1m3s\u001b[0m 21ms/step - Output1_accuracy: 0.9344 - Output1_loss: 0.2179 - Output2_accuracy: 0.8663 - Output2_loss: 0.3771 - loss: 0.3134 - val_Output1_accuracy: 0.8652 - val_Output1_loss: 0.3920 - val_Output2_accuracy: 0.8604 - val_Output2_loss: 0.3619 - val_loss: 0.3740 - learning_rate: 1.0000e-04\n",
      "Epoch 32/100\n",
      "\u001b[1m156/156\u001b[0m \u001b[32m━━━━━━━━━━━━━━━━━━━━\u001b[0m\u001b[37m\u001b[0m \u001b[1m3s\u001b[0m 21ms/step - Output1_accuracy: 0.9342 - Output1_loss: 0.2178 - Output2_accuracy: 0.8673 - Output2_loss: 0.3771 - loss: 0.3134 - val_Output1_accuracy: 0.8652 - val_Output1_loss: 0.3920 - val_Output2_accuracy: 0.8587 - val_Output2_loss: 0.3624 - val_loss: 0.3743 - learning_rate: 1.0000e-04\n",
      "Epoch 33/100\n",
      "\u001b[1m156/156\u001b[0m \u001b[32m━━━━━━━━━━━━━━━━━━━━\u001b[0m\u001b[37m\u001b[0m \u001b[1m3s\u001b[0m 20ms/step - Output1_accuracy: 0.9340 - Output1_loss: 0.2178 - Output2_accuracy: 0.8663 - Output2_loss: 0.3769 - loss: 0.3133 - val_Output1_accuracy: 0.8652 - val_Output1_loss: 0.3921 - val_Output2_accuracy: 0.8604 - val_Output2_loss: 0.3626 - val_loss: 0.3744 - learning_rate: 1.0000e-04\n",
      "Epoch 34/100\n",
      "\u001b[1m156/156\u001b[0m \u001b[32m━━━━━━━━━━━━━━━━━━━━\u001b[0m\u001b[37m\u001b[0m \u001b[1m3s\u001b[0m 20ms/step - Output1_accuracy: 0.9342 - Output1_loss: 0.2177 - Output2_accuracy: 0.8671 - Output2_loss: 0.3768 - loss: 0.3132 - val_Output1_accuracy: 0.8652 - val_Output1_loss: 0.3921 - val_Output2_accuracy: 0.8596 - val_Output2_loss: 0.3627 - val_loss: 0.3745 - learning_rate: 1.0000e-04\n",
      "Epoch 35/100\n",
      "\u001b[1m156/156\u001b[0m \u001b[32m━━━━━━━━━━━━━━━━━━━━\u001b[0m\u001b[37m\u001b[0m \u001b[1m3s\u001b[0m 21ms/step - Output1_accuracy: 0.9344 - Output1_loss: 0.2177 - Output2_accuracy: 0.8667 - Output2_loss: 0.3767 - loss: 0.3131 - val_Output1_accuracy: 0.8652 - val_Output1_loss: 0.3921 - val_Output2_accuracy: 0.8587 - val_Output2_loss: 0.3625 - val_loss: 0.3743 - learning_rate: 1.0000e-04\n",
      "Epoch 36/100\n",
      "\u001b[1m156/156\u001b[0m \u001b[32m━━━━━━━━━━━━━━━━━━━━\u001b[0m\u001b[37m\u001b[0m \u001b[1m3s\u001b[0m 20ms/step - Output1_accuracy: 0.9344 - Output1_loss: 0.2177 - Output2_accuracy: 0.8659 - Output2_loss: 0.3767 - loss: 0.3131 - val_Output1_accuracy: 0.8652 - val_Output1_loss: 0.3921 - val_Output2_accuracy: 0.8596 - val_Output2_loss: 0.3629 - val_loss: 0.3746 - learning_rate: 1.0000e-04\n",
      "Epoch 37/100\n",
      "\u001b[1m156/156\u001b[0m \u001b[32m━━━━━━━━━━━━━━━━━━━━\u001b[0m\u001b[37m\u001b[0m \u001b[1m3s\u001b[0m 20ms/step - Output1_accuracy: 0.9346 - Output1_loss: 0.2176 - Output2_accuracy: 0.8673 - Output2_loss: 0.3765 - loss: 0.3130 - val_Output1_accuracy: 0.8652 - val_Output1_loss: 0.3921 - val_Output2_accuracy: 0.8596 - val_Output2_loss: 0.3632 - val_loss: 0.3748 - learning_rate: 1.0000e-04\n",
      "Epoch 38/100\n",
      "\u001b[1m156/156\u001b[0m \u001b[32m━━━━━━━━━━━━━━━━━━━━\u001b[0m\u001b[37m\u001b[0m \u001b[1m3s\u001b[0m 20ms/step - Output1_accuracy: 0.9340 - Output1_loss: 0.2176 - Output2_accuracy: 0.8673 - Output2_loss: 0.3765 - loss: 0.3130 - val_Output1_accuracy: 0.8652 - val_Output1_loss: 0.3921 - val_Output2_accuracy: 0.8596 - val_Output2_loss: 0.3628 - val_loss: 0.3745 - learning_rate: 1.0000e-04\n",
      "Epoch 39/100\n",
      "\u001b[1m156/156\u001b[0m \u001b[32m━━━━━━━━━━━━━━━━━━━━\u001b[0m\u001b[37m\u001b[0m \u001b[1m3s\u001b[0m 20ms/step - Output1_accuracy: 0.9344 - Output1_loss: 0.2176 - Output2_accuracy: 0.8669 - Output2_loss: 0.3765 - loss: 0.3129 - val_Output1_accuracy: 0.8652 - val_Output1_loss: 0.3921 - val_Output2_accuracy: 0.8587 - val_Output2_loss: 0.3627 - val_loss: 0.3745 - learning_rate: 1.0000e-04\n",
      "Training ended\n"
     ]
    },
    {
     "data": {
      "text/plain": [
       "<keras.src.callbacks.history.History at 0x7392d47571a0>"
      ]
     },
     "execution_count": 33,
     "metadata": {},
     "output_type": "execute_result"
    }
   ],
   "source": [
    "way_model_loaded.compile(\n",
    "    optimizer=\"sgd\",\n",
    "    loss=[\"sparse_categorical_crossentropy\", \"sparse_categorical_crossentropy\"],\n",
    "    metrics=[\"accuracy\", \"accuracy\"],\n",
    "    loss_weights=[0.4, 0.6],\n",
    ")\n",
    "way_model_loaded.fit(\n",
    "    [way_x_1, way_x_2],\n",
    "    [way_y_1, way_y_2],\n",
    "    epochs=100,\n",
    "    validation_split=0.2,\n",
    "    callbacks=my_callbacks,\n",
    ")"
   ]
  }
 ],
 "metadata": {
  "kernelspec": {
   "display_name": ".venv",
   "language": "python",
   "name": "python3"
  },
  "language_info": {
   "codemirror_mode": {
    "name": "ipython",
    "version": 3
   },
   "file_extension": ".py",
   "mimetype": "text/x-python",
   "name": "python",
   "nbconvert_exporter": "python",
   "pygments_lexer": "ipython3",
   "version": "3.12.3"
  }
 },
 "nbformat": 4,
 "nbformat_minor": 5
}
