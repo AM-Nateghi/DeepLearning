{
 "cells": [
  {
   "cell_type": "markdown",
   "id": "10a8e0b7",
   "metadata": {},
   "source": [
    "# Functional API Keras Using or Wide&Deep Learning"
   ]
  },
  {
   "cell_type": "code",
   "execution_count": 55,
   "id": "7dfe1aa1",
   "metadata": {},
   "outputs": [],
   "source": [
    "import keras\n",
    "from keras.layers import Dense, Input, Concatenate\n",
    "from keras.models import Model\n",
    "from sklearn.model_selection import train_test_split\n",
    "from sklearn.preprocessing import StandardScaler\n",
    "from sklearn.datasets import load_iris\n",
    "import matplotlib.pyplot as plt\n",
    "import numpy as np\n",
    "import tensorflow as tf\n",
    "tf.config.run_functions_eagerly(True)\n",
    "\n",
    "x, y = load_iris(return_X_y=True)"
   ]
  },
  {
   "cell_type": "code",
   "execution_count": 56,
   "id": "22b08057",
   "metadata": {},
   "outputs": [],
   "source": [
    "x_scaled = StandardScaler().fit_transform(x)\n",
    "_xtrain, x_test, _ytrain, y_test = train_test_split(x_scaled, y, test_size=0.2, random_state=4)\n",
    "x_train, x_val, y_train, y_val = train_test_split(_xtrain, _ytrain, test_size=0.15, random_state=4)"
   ]
  },
  {
   "cell_type": "code",
   "execution_count": 57,
   "id": "e9a7f787",
   "metadata": {},
   "outputs": [],
   "source": [
    "input_layer = Input(shape=(x_train.shape[1],))\n",
    "hid_layer_1 = Dense(128, activation='relu')(input_layer)\n",
    "hid_layer_2 = Dense(128, activation='relu')(hid_layer_1)\n",
    "hid_layer_3 = Dense(32, activation='relu')(hid_layer_2)\n",
    "conc_layer = Concatenate()([input_layer, hid_layer_3])\n",
    "output_layer = Dense(3, activation='softmax')(conc_layer)"
   ]
  },
  {
   "cell_type": "code",
   "execution_count": 58,
   "id": "30fdaf1d",
   "metadata": {},
   "outputs": [],
   "source": [
    "model = Model(inputs=[input_layer], outputs=[output_layer])\n",
    "model.compile(optimizer='sgd', loss='sparse_categorical_crossentropy', metrics=['accuracy'])"
   ]
  },
  {
   "cell_type": "code",
   "execution_count": 59,
   "id": "85fc6fd4",
   "metadata": {},
   "outputs": [
    {
     "name": "stdout",
     "output_type": "stream",
     "text": [
      "Epoch 1/24\n",
      "\u001b[1m1/4\u001b[0m \u001b[32m━━━━━\u001b[0m\u001b[37m━━━━━━━━━━━━━━━\u001b[0m \u001b[1m0s\u001b[0m 90ms/step - accuracy: 0.0625 - loss: 1.2838"
     ]
    },
    {
     "name": "stderr",
     "output_type": "stream",
     "text": [
      "/home/aqr/Desktop/DeepLearning/.venv/lib/python3.12/site-packages/tensorflow/python/data/ops/structured_function.py:258: UserWarning: Even though the `tf.config.experimental_run_functions_eagerly` option is set, this option does not apply to tf.data functions. To force eager execution of tf.data functions, please use `tf.data.experimental.enable_debug_mode()`.\n",
      "  warnings.warn(\n"
     ]
    },
    {
     "name": "stdout",
     "output_type": "stream",
     "text": [
      "\u001b[1m4/4\u001b[0m \u001b[32m━━━━━━━━━━━━━━━━━━━━\u001b[0m\u001b[37m\u001b[0m \u001b[1m0s\u001b[0m 33ms/step - accuracy: 0.0490 - loss: 1.2692 - val_accuracy: 0.1111 - val_loss: 1.2483\n",
      "Epoch 2/24\n",
      "\u001b[1m4/4\u001b[0m \u001b[32m━━━━━━━━━━━━━━━━━━━━\u001b[0m\u001b[37m\u001b[0m \u001b[1m0s\u001b[0m 27ms/step - accuracy: 0.2059 - loss: 1.2050 - val_accuracy: 0.3333 - val_loss: 1.1812\n",
      "Epoch 3/24\n",
      "\u001b[1m4/4\u001b[0m \u001b[32m━━━━━━━━━━━━━━━━━━━━\u001b[0m\u001b[37m\u001b[0m \u001b[1m0s\u001b[0m 26ms/step - accuracy: 0.3431 - loss: 1.1499 - val_accuracy: 0.3333 - val_loss: 1.1242\n",
      "Epoch 4/24\n",
      "\u001b[1m4/4\u001b[0m \u001b[32m━━━━━━━━━━━━━━━━━━━━\u001b[0m\u001b[37m\u001b[0m \u001b[1m0s\u001b[0m 27ms/step - accuracy: 0.3725 - loss: 1.1024 - val_accuracy: 0.3333 - val_loss: 1.0662\n",
      "Epoch 5/24\n",
      "\u001b[1m4/4\u001b[0m \u001b[32m━━━━━━━━━━━━━━━━━━━━\u001b[0m\u001b[37m\u001b[0m \u001b[1m0s\u001b[0m 28ms/step - accuracy: 0.3824 - loss: 1.0536 - val_accuracy: 0.3333 - val_loss: 1.0198\n",
      "Epoch 6/24\n",
      "\u001b[1m4/4\u001b[0m \u001b[32m━━━━━━━━━━━━━━━━━━━━\u001b[0m\u001b[37m\u001b[0m \u001b[1m0s\u001b[0m 28ms/step - accuracy: 0.4118 - loss: 1.0149 - val_accuracy: 0.3333 - val_loss: 0.9710\n",
      "Epoch 7/24\n",
      "\u001b[1m4/4\u001b[0m \u001b[32m━━━━━━━━━━━━━━━━━━━━\u001b[0m\u001b[37m\u001b[0m \u001b[1m0s\u001b[0m 27ms/step - accuracy: 0.4216 - loss: 0.9745 - val_accuracy: 0.3889 - val_loss: 0.9291\n",
      "Epoch 8/24\n",
      "\u001b[1m4/4\u001b[0m \u001b[32m━━━━━━━━━━━━━━━━━━━━\u001b[0m\u001b[37m\u001b[0m \u001b[1m0s\u001b[0m 29ms/step - accuracy: 0.4216 - loss: 0.9393 - val_accuracy: 0.3889 - val_loss: 0.8909\n",
      "Epoch 9/24\n",
      "\u001b[1m4/4\u001b[0m \u001b[32m━━━━━━━━━━━━━━━━━━━━\u001b[0m\u001b[37m\u001b[0m \u001b[1m0s\u001b[0m 39ms/step - accuracy: 0.5588 - loss: 0.9072 - val_accuracy: 0.7222 - val_loss: 0.8550\n",
      "Epoch 10/24\n",
      "\u001b[1m4/4\u001b[0m \u001b[32m━━━━━━━━━━━━━━━━━━━━\u001b[0m\u001b[37m\u001b[0m \u001b[1m0s\u001b[0m 29ms/step - accuracy: 0.6765 - loss: 0.8774 - val_accuracy: 0.7222 - val_loss: 0.8220\n",
      "Epoch 11/24\n",
      "\u001b[1m4/4\u001b[0m \u001b[32m━━━━━━━━━━━━━━━━━━━━\u001b[0m\u001b[37m\u001b[0m \u001b[1m0s\u001b[0m 27ms/step - accuracy: 0.7255 - loss: 0.8499 - val_accuracy: 0.7222 - val_loss: 0.7905\n",
      "Epoch 12/24\n",
      "\u001b[1m4/4\u001b[0m \u001b[32m━━━━━━━━━━━━━━━━━━━━\u001b[0m\u001b[37m\u001b[0m \u001b[1m0s\u001b[0m 30ms/step - accuracy: 0.7549 - loss: 0.8243 - val_accuracy: 0.7222 - val_loss: 0.7642\n",
      "Epoch 13/24\n",
      "\u001b[1m4/4\u001b[0m \u001b[32m━━━━━━━━━━━━━━━━━━━━\u001b[0m\u001b[37m\u001b[0m \u001b[1m0s\u001b[0m 26ms/step - accuracy: 0.7549 - loss: 0.8016 - val_accuracy: 0.7778 - val_loss: 0.7337\n",
      "Epoch 14/24\n",
      "\u001b[1m4/4\u001b[0m \u001b[32m━━━━━━━━━━━━━━━━━━━━\u001b[0m\u001b[37m\u001b[0m \u001b[1m0s\u001b[0m 29ms/step - accuracy: 0.7843 - loss: 0.7770 - val_accuracy: 0.7778 - val_loss: 0.7114\n",
      "Epoch 15/24\n",
      "\u001b[1m4/4\u001b[0m \u001b[32m━━━━━━━━━━━━━━━━━━━━\u001b[0m\u001b[37m\u001b[0m \u001b[1m0s\u001b[0m 28ms/step - accuracy: 0.7843 - loss: 0.7576 - val_accuracy: 0.7778 - val_loss: 0.6905\n",
      "Epoch 16/24\n",
      "\u001b[1m4/4\u001b[0m \u001b[32m━━━━━━━━━━━━━━━━━━━━\u001b[0m\u001b[37m\u001b[0m \u001b[1m0s\u001b[0m 27ms/step - accuracy: 0.7941 - loss: 0.7390 - val_accuracy: 0.8333 - val_loss: 0.6688\n",
      "Epoch 17/24\n",
      "\u001b[1m4/4\u001b[0m \u001b[32m━━━━━━━━━━━━━━━━━━━━\u001b[0m\u001b[37m\u001b[0m \u001b[1m0s\u001b[0m 26ms/step - accuracy: 0.7843 - loss: 0.7206 - val_accuracy: 0.8333 - val_loss: 0.6500\n",
      "Epoch 18/24\n",
      "\u001b[1m4/4\u001b[0m \u001b[32m━━━━━━━━━━━━━━━━━━━━\u001b[0m\u001b[37m\u001b[0m \u001b[1m0s\u001b[0m 28ms/step - accuracy: 0.7843 - loss: 0.7042 - val_accuracy: 0.8333 - val_loss: 0.6311\n",
      "Epoch 19/24\n",
      "\u001b[1m4/4\u001b[0m \u001b[32m━━━━━━━━━━━━━━━━━━━━\u001b[0m\u001b[37m\u001b[0m \u001b[1m0s\u001b[0m 26ms/step - accuracy: 0.7843 - loss: 0.6881 - val_accuracy: 0.8333 - val_loss: 0.6128\n",
      "Epoch 20/24\n",
      "\u001b[1m4/4\u001b[0m \u001b[32m━━━━━━━━━━━━━━━━━━━━\u001b[0m\u001b[37m\u001b[0m \u001b[1m0s\u001b[0m 27ms/step - accuracy: 0.7843 - loss: 0.6724 - val_accuracy: 0.8333 - val_loss: 0.5979\n",
      "Epoch 21/24\n",
      "\u001b[1m4/4\u001b[0m \u001b[32m━━━━━━━━━━━━━━━━━━━━\u001b[0m\u001b[37m\u001b[0m \u001b[1m0s\u001b[0m 26ms/step - accuracy: 0.7843 - loss: 0.6591 - val_accuracy: 0.8333 - val_loss: 0.5831\n",
      "Epoch 22/24\n",
      "\u001b[1m4/4\u001b[0m \u001b[32m━━━━━━━━━━━━━━━━━━━━\u001b[0m\u001b[37m\u001b[0m \u001b[1m0s\u001b[0m 26ms/step - accuracy: 0.7843 - loss: 0.6462 - val_accuracy: 0.8333 - val_loss: 0.5690\n",
      "Epoch 23/24\n",
      "\u001b[1m4/4\u001b[0m \u001b[32m━━━━━━━━━━━━━━━━━━━━\u001b[0m\u001b[37m\u001b[0m \u001b[1m0s\u001b[0m 27ms/step - accuracy: 0.8039 - loss: 0.6340 - val_accuracy: 0.8333 - val_loss: 0.5570\n",
      "Epoch 24/24\n",
      "\u001b[1m4/4\u001b[0m \u001b[32m━━━━━━━━━━━━━━━━━━━━\u001b[0m\u001b[37m\u001b[0m \u001b[1m0s\u001b[0m 26ms/step - accuracy: 0.8137 - loss: 0.6226 - val_accuracy: 0.8333 - val_loss: 0.5455\n"
     ]
    },
    {
     "data": {
      "text/html": [
       "<pre style=\"white-space:pre;overflow-x:auto;line-height:normal;font-family:Menlo,'DejaVu Sans Mono',consolas,'Courier New',monospace\"><span style=\"font-weight: bold\">Model: \"functional_14\"</span>\n",
       "</pre>\n"
      ],
      "text/plain": [
       "\u001b[1mModel: \"functional_14\"\u001b[0m\n"
      ]
     },
     "metadata": {},
     "output_type": "display_data"
    },
    {
     "data": {
      "text/html": [
       "<pre style=\"white-space:pre;overflow-x:auto;line-height:normal;font-family:Menlo,'DejaVu Sans Mono',consolas,'Courier New',monospace\">┏━━━━━━━━━━━━━━━━━━━━━┳━━━━━━━━━━━━━━━━━━━┳━━━━━━━━━━━━┳━━━━━━━━━━━━━━━━━━━┓\n",
       "┃<span style=\"font-weight: bold\"> Layer (type)        </span>┃<span style=\"font-weight: bold\"> Output Shape      </span>┃<span style=\"font-weight: bold\">    Param # </span>┃<span style=\"font-weight: bold\"> Connected to      </span>┃\n",
       "┡━━━━━━━━━━━━━━━━━━━━━╇━━━━━━━━━━━━━━━━━━━╇━━━━━━━━━━━━╇━━━━━━━━━━━━━━━━━━━┩\n",
       "│ input_layer_5       │ (<span style=\"color: #00d7ff; text-decoration-color: #00d7ff\">None</span>, <span style=\"color: #00af00; text-decoration-color: #00af00\">4</span>)         │          <span style=\"color: #00af00; text-decoration-color: #00af00\">0</span> │ -                 │\n",
       "│ (<span style=\"color: #0087ff; text-decoration-color: #0087ff\">InputLayer</span>)        │                   │            │                   │\n",
       "├─────────────────────┼───────────────────┼────────────┼───────────────────┤\n",
       "│ dense_23 (<span style=\"color: #0087ff; text-decoration-color: #0087ff\">Dense</span>)    │ (<span style=\"color: #00d7ff; text-decoration-color: #00d7ff\">None</span>, <span style=\"color: #00af00; text-decoration-color: #00af00\">128</span>)       │        <span style=\"color: #00af00; text-decoration-color: #00af00\">640</span> │ input_layer_5[<span style=\"color: #00af00; text-decoration-color: #00af00\">0</span>]… │\n",
       "├─────────────────────┼───────────────────┼────────────┼───────────────────┤\n",
       "│ dense_24 (<span style=\"color: #0087ff; text-decoration-color: #0087ff\">Dense</span>)    │ (<span style=\"color: #00d7ff; text-decoration-color: #00d7ff\">None</span>, <span style=\"color: #00af00; text-decoration-color: #00af00\">128</span>)       │     <span style=\"color: #00af00; text-decoration-color: #00af00\">16,512</span> │ dense_23[<span style=\"color: #00af00; text-decoration-color: #00af00\">0</span>][<span style=\"color: #00af00; text-decoration-color: #00af00\">0</span>]    │\n",
       "├─────────────────────┼───────────────────┼────────────┼───────────────────┤\n",
       "│ dense_25 (<span style=\"color: #0087ff; text-decoration-color: #0087ff\">Dense</span>)    │ (<span style=\"color: #00d7ff; text-decoration-color: #00d7ff\">None</span>, <span style=\"color: #00af00; text-decoration-color: #00af00\">32</span>)        │      <span style=\"color: #00af00; text-decoration-color: #00af00\">4,128</span> │ dense_24[<span style=\"color: #00af00; text-decoration-color: #00af00\">0</span>][<span style=\"color: #00af00; text-decoration-color: #00af00\">0</span>]    │\n",
       "├─────────────────────┼───────────────────┼────────────┼───────────────────┤\n",
       "│ concatenate_1       │ (<span style=\"color: #00d7ff; text-decoration-color: #00d7ff\">None</span>, <span style=\"color: #00af00; text-decoration-color: #00af00\">36</span>)        │          <span style=\"color: #00af00; text-decoration-color: #00af00\">0</span> │ input_layer_5[<span style=\"color: #00af00; text-decoration-color: #00af00\">0</span>]… │\n",
       "│ (<span style=\"color: #0087ff; text-decoration-color: #0087ff\">Concatenate</span>)       │                   │            │ dense_25[<span style=\"color: #00af00; text-decoration-color: #00af00\">0</span>][<span style=\"color: #00af00; text-decoration-color: #00af00\">0</span>]    │\n",
       "├─────────────────────┼───────────────────┼────────────┼───────────────────┤\n",
       "│ dense_26 (<span style=\"color: #0087ff; text-decoration-color: #0087ff\">Dense</span>)    │ (<span style=\"color: #00d7ff; text-decoration-color: #00d7ff\">None</span>, <span style=\"color: #00af00; text-decoration-color: #00af00\">3</span>)         │        <span style=\"color: #00af00; text-decoration-color: #00af00\">111</span> │ concatenate_1[<span style=\"color: #00af00; text-decoration-color: #00af00\">0</span>]… │\n",
       "└─────────────────────┴───────────────────┴────────────┴───────────────────┘\n",
       "</pre>\n"
      ],
      "text/plain": [
       "┏━━━━━━━━━━━━━━━━━━━━━┳━━━━━━━━━━━━━━━━━━━┳━━━━━━━━━━━━┳━━━━━━━━━━━━━━━━━━━┓\n",
       "┃\u001b[1m \u001b[0m\u001b[1mLayer (type)       \u001b[0m\u001b[1m \u001b[0m┃\u001b[1m \u001b[0m\u001b[1mOutput Shape     \u001b[0m\u001b[1m \u001b[0m┃\u001b[1m \u001b[0m\u001b[1m   Param #\u001b[0m\u001b[1m \u001b[0m┃\u001b[1m \u001b[0m\u001b[1mConnected to     \u001b[0m\u001b[1m \u001b[0m┃\n",
       "┡━━━━━━━━━━━━━━━━━━━━━╇━━━━━━━━━━━━━━━━━━━╇━━━━━━━━━━━━╇━━━━━━━━━━━━━━━━━━━┩\n",
       "│ input_layer_5       │ (\u001b[38;5;45mNone\u001b[0m, \u001b[38;5;34m4\u001b[0m)         │          \u001b[38;5;34m0\u001b[0m │ -                 │\n",
       "│ (\u001b[38;5;33mInputLayer\u001b[0m)        │                   │            │                   │\n",
       "├─────────────────────┼───────────────────┼────────────┼───────────────────┤\n",
       "│ dense_23 (\u001b[38;5;33mDense\u001b[0m)    │ (\u001b[38;5;45mNone\u001b[0m, \u001b[38;5;34m128\u001b[0m)       │        \u001b[38;5;34m640\u001b[0m │ input_layer_5[\u001b[38;5;34m0\u001b[0m]… │\n",
       "├─────────────────────┼───────────────────┼────────────┼───────────────────┤\n",
       "│ dense_24 (\u001b[38;5;33mDense\u001b[0m)    │ (\u001b[38;5;45mNone\u001b[0m, \u001b[38;5;34m128\u001b[0m)       │     \u001b[38;5;34m16,512\u001b[0m │ dense_23[\u001b[38;5;34m0\u001b[0m][\u001b[38;5;34m0\u001b[0m]    │\n",
       "├─────────────────────┼───────────────────┼────────────┼───────────────────┤\n",
       "│ dense_25 (\u001b[38;5;33mDense\u001b[0m)    │ (\u001b[38;5;45mNone\u001b[0m, \u001b[38;5;34m32\u001b[0m)        │      \u001b[38;5;34m4,128\u001b[0m │ dense_24[\u001b[38;5;34m0\u001b[0m][\u001b[38;5;34m0\u001b[0m]    │\n",
       "├─────────────────────┼───────────────────┼────────────┼───────────────────┤\n",
       "│ concatenate_1       │ (\u001b[38;5;45mNone\u001b[0m, \u001b[38;5;34m36\u001b[0m)        │          \u001b[38;5;34m0\u001b[0m │ input_layer_5[\u001b[38;5;34m0\u001b[0m]… │\n",
       "│ (\u001b[38;5;33mConcatenate\u001b[0m)       │                   │            │ dense_25[\u001b[38;5;34m0\u001b[0m][\u001b[38;5;34m0\u001b[0m]    │\n",
       "├─────────────────────┼───────────────────┼────────────┼───────────────────┤\n",
       "│ dense_26 (\u001b[38;5;33mDense\u001b[0m)    │ (\u001b[38;5;45mNone\u001b[0m, \u001b[38;5;34m3\u001b[0m)         │        \u001b[38;5;34m111\u001b[0m │ concatenate_1[\u001b[38;5;34m0\u001b[0m]… │\n",
       "└─────────────────────┴───────────────────┴────────────┴───────────────────┘\n"
      ]
     },
     "metadata": {},
     "output_type": "display_data"
    },
    {
     "data": {
      "text/html": [
       "<pre style=\"white-space:pre;overflow-x:auto;line-height:normal;font-family:Menlo,'DejaVu Sans Mono',consolas,'Courier New',monospace\"><span style=\"font-weight: bold\"> Total params: </span><span style=\"color: #00af00; text-decoration-color: #00af00\">21,393</span> (83.57 KB)\n",
       "</pre>\n"
      ],
      "text/plain": [
       "\u001b[1m Total params: \u001b[0m\u001b[38;5;34m21,393\u001b[0m (83.57 KB)\n"
      ]
     },
     "metadata": {},
     "output_type": "display_data"
    },
    {
     "data": {
      "text/html": [
       "<pre style=\"white-space:pre;overflow-x:auto;line-height:normal;font-family:Menlo,'DejaVu Sans Mono',consolas,'Courier New',monospace\"><span style=\"font-weight: bold\"> Trainable params: </span><span style=\"color: #00af00; text-decoration-color: #00af00\">21,391</span> (83.56 KB)\n",
       "</pre>\n"
      ],
      "text/plain": [
       "\u001b[1m Trainable params: \u001b[0m\u001b[38;5;34m21,391\u001b[0m (83.56 KB)\n"
      ]
     },
     "metadata": {},
     "output_type": "display_data"
    },
    {
     "data": {
      "text/html": [
       "<pre style=\"white-space:pre;overflow-x:auto;line-height:normal;font-family:Menlo,'DejaVu Sans Mono',consolas,'Courier New',monospace\"><span style=\"font-weight: bold\"> Non-trainable params: </span><span style=\"color: #00af00; text-decoration-color: #00af00\">0</span> (0.00 B)\n",
       "</pre>\n"
      ],
      "text/plain": [
       "\u001b[1m Non-trainable params: \u001b[0m\u001b[38;5;34m0\u001b[0m (0.00 B)\n"
      ]
     },
     "metadata": {},
     "output_type": "display_data"
    },
    {
     "data": {
      "text/html": [
       "<pre style=\"white-space:pre;overflow-x:auto;line-height:normal;font-family:Menlo,'DejaVu Sans Mono',consolas,'Courier New',monospace\"><span style=\"font-weight: bold\"> Optimizer params: </span><span style=\"color: #00af00; text-decoration-color: #00af00\">2</span> (12.00 B)\n",
       "</pre>\n"
      ],
      "text/plain": [
       "\u001b[1m Optimizer params: \u001b[0m\u001b[38;5;34m2\u001b[0m (12.00 B)\n"
      ]
     },
     "metadata": {},
     "output_type": "display_data"
    }
   ],
   "source": [
    "fit_history = model.fit(x_train, y_train, epochs=24, validation_data=(x_val, y_val))\n",
    "model.summary()"
   ]
  },
  {
   "cell_type": "code",
   "execution_count": 60,
   "id": "b9dd9cfd",
   "metadata": {},
   "outputs": [
    {
     "name": "stdout",
     "output_type": "stream",
     "text": [
      "1/1 - 0s - 37ms/step - accuracy: 0.8667 - loss: 0.4997\n"
     ]
    },
    {
     "data": {
      "text/plain": [
       "[0.49969932436943054, 0.8666666746139526]"
      ]
     },
     "execution_count": 60,
     "metadata": {},
     "output_type": "execute_result"
    }
   ],
   "source": [
    "model.evaluate(x_test, y_test, verbose=2)"
   ]
  },
  {
   "cell_type": "markdown",
   "id": "4acae9a3",
   "metadata": {},
   "source": [
    "# Multiple Inputs & Outputs"
   ]
  },
  {
   "cell_type": "code",
   "execution_count": 61,
   "id": "cdd193e5",
   "metadata": {},
   "outputs": [],
   "source": [
    "from sklearn.datasets import make_classification\n",
    "\n",
    "way_x, way_y = make_classification(\n",
    "    n_samples=12456,\n",
    "    n_features=12,\n",
    "    n_informative=5,\n",
    "    n_redundant=6,\n",
    "    random_state=42,\n",
    "    n_classes=4,\n",
    "    n_clusters_per_class=2,\n",
    "    return_X_y=True,\n",
    "    scale=71,\n",
    ")\n",
    "\n",
    "scaled_x = StandardScaler().fit_transform(x)"
   ]
  },
  {
   "cell_type": "code",
   "execution_count": 62,
   "id": "e0294e6e",
   "metadata": {},
   "outputs": [
    {
     "data": {
      "text/plain": [
       "12    1.000000\n",
       "1     0.365751\n",
       "8     0.361266\n",
       "9     0.343464\n",
       "2     0.210523\n",
       "6     0.206035\n",
       "10    0.158553\n",
       "0     0.093228\n",
       "11    0.076650\n",
       "3     0.071173\n",
       "4     0.054401\n",
       "5     0.014130\n",
       "7     0.001184\n",
       "Name: 12, dtype: float64"
      ]
     },
     "execution_count": 62,
     "metadata": {},
     "output_type": "execute_result"
    }
   ],
   "source": [
    "import pandas as pd\n",
    "\n",
    "np.abs(pd.DataFrame(np.hstack([way_x, way_y.reshape(-1, 1)])).corr()[12]).sort_values(\n",
    "    ascending=False\n",
    ")"
   ]
  },
  {
   "cell_type": "code",
   "execution_count": 63,
   "id": "0983a2d8",
   "metadata": {},
   "outputs": [],
   "source": [
    "way_x_1, way_x_2, way_y_1, way_y_2 = train_test_split(\n",
    "    way_x, way_y, random_state=4, test_size=0.5\n",
    ")\n",
    "\n",
    "input_layer_2 = Input(shape=(way_x_2.shape[1],), name=\"Input2\")\n",
    "hidden_layer_1 = Dense(128, activation=\"relu\",)(input_layer_2)\n",
    "output_layer_2 = Dense(len(np.unique(way_y_2)), activation=\"softmax\", name=\"Output2\")(hidden_layer_1)\n",
    "\n",
    "input_layer_1 = Input(shape=(way_x_1.shape[1],), name=\"Input1\")\n",
    "hidden_layer_2 = Dense(256, activation=\"tanh\")(input_layer_1)\n",
    "hidden_layer_3 = Dense(128, activation=\"relu\")(hidden_layer_2)\n",
    "output_layer_1 = Dense(len(np.unique(way_y_1)), activation=\"softmax\", name=\"Output1\")(hidden_layer_3)"
   ]
  },
  {
   "cell_type": "code",
   "execution_count": 64,
   "id": "472976b7",
   "metadata": {},
   "outputs": [],
   "source": [
    "way_model = Model(inputs=[input_layer_1, input_layer_2], outputs=[output_layer_1, output_layer_2])\n",
    "\n",
    "way_model.compile(optimizer=\"sgd\", loss=[\"sparse_categorical_crossentropy\", \"sparse_categorical_crossentropy\"], metrics=[\"accuracy\", \"accuracy\"], loss_weights=[0.4, 0.6])"
   ]
  },
  {
   "cell_type": "code",
   "execution_count": 65,
   "id": "bd6571ab",
   "metadata": {},
   "outputs": [
    {
     "name": "stdout",
     "output_type": "stream",
     "text": [
      "Epoch 1/10\n",
      "\u001b[1m  7/195\u001b[0m \u001b[37m━━━━━━━━━━━━━━━━━━━━\u001b[0m \u001b[1m3s\u001b[0m 17ms/step - Output1_accuracy: 0.1819 - Output1_loss: 1.7578 - Output2_accuracy: 0.4148 - Output2_loss: 46.8538 - loss: 28.8154"
     ]
    },
    {
     "name": "stderr",
     "output_type": "stream",
     "text": [
      "/home/aqr/Desktop/DeepLearning/.venv/lib/python3.12/site-packages/tensorflow/python/data/ops/structured_function.py:258: UserWarning: Even though the `tf.config.experimental_run_functions_eagerly` option is set, this option does not apply to tf.data functions. To force eager execution of tf.data functions, please use `tf.data.experimental.enable_debug_mode()`.\n",
      "  warnings.warn(\n"
     ]
    },
    {
     "name": "stdout",
     "output_type": "stream",
     "text": [
      "\u001b[1m195/195\u001b[0m \u001b[32m━━━━━━━━━━━━━━━━━━━━\u001b[0m\u001b[37m\u001b[0m \u001b[1m4s\u001b[0m 18ms/step - Output1_accuracy: 0.6843 - Output1_loss: 0.8271 - Output2_accuracy: 0.7180 - Output2_loss: 7.0325 - loss: 4.5503 \n",
      "Epoch 2/10\n",
      "\u001b[1m195/195\u001b[0m \u001b[32m━━━━━━━━━━━━━━━━━━━━\u001b[0m\u001b[37m\u001b[0m \u001b[1m3s\u001b[0m 17ms/step - Output1_accuracy: 0.8064 - Output1_loss: 0.5528 - Output2_accuracy: 0.7474 - Output2_loss: 2.0532 - loss: 1.4530\n",
      "Epoch 3/10\n",
      "\u001b[1m195/195\u001b[0m \u001b[32m━━━━━━━━━━━━━━━━━━━━\u001b[0m\u001b[37m\u001b[0m \u001b[1m3s\u001b[0m 18ms/step - Output1_accuracy: 0.8394 - Output1_loss: 0.4859 - Output2_accuracy: 0.7616 - Output2_loss: 1.1776 - loss: 0.9009\n",
      "Epoch 4/10\n",
      "\u001b[1m195/195\u001b[0m \u001b[32m━━━━━━━━━━━━━━━━━━━━\u001b[0m\u001b[37m\u001b[0m \u001b[1m4s\u001b[0m 18ms/step - Output1_accuracy: 0.8504 - Output1_loss: 0.4474 - Output2_accuracy: 0.7776 - Output2_loss: 0.8792 - loss: 0.7065\n",
      "Epoch 5/10\n",
      "\u001b[1m195/195\u001b[0m \u001b[32m━━━━━━━━━━━━━━━━━━━━\u001b[0m\u001b[37m\u001b[0m \u001b[1m3s\u001b[0m 17ms/step - Output1_accuracy: 0.8589 - Output1_loss: 0.4238 - Output2_accuracy: 0.7767 - Output2_loss: 0.7252 - loss: 0.6047\n",
      "Epoch 6/10\n",
      "\u001b[1m195/195\u001b[0m \u001b[32m━━━━━━━━━━━━━━━━━━━━\u001b[0m\u001b[37m\u001b[0m \u001b[1m3s\u001b[0m 17ms/step - Output1_accuracy: 0.8640 - Output1_loss: 0.4057 - Output2_accuracy: 0.7802 - Output2_loss: 0.6784 - loss: 0.5693\n",
      "Epoch 7/10\n",
      "\u001b[1m195/195\u001b[0m \u001b[32m━━━━━━━━━━━━━━━━━━━━\u001b[0m\u001b[37m\u001b[0m \u001b[1m3s\u001b[0m 14ms/step - Output1_accuracy: 0.8719 - Output1_loss: 0.3909 - Output2_accuracy: 0.7922 - Output2_loss: 0.6138 - loss: 0.5246\n",
      "Epoch 8/10\n",
      "\u001b[1m195/195\u001b[0m \u001b[32m━━━━━━━━━━━━━━━━━━━━\u001b[0m\u001b[37m\u001b[0m \u001b[1m3s\u001b[0m 15ms/step - Output1_accuracy: 0.8717 - Output1_loss: 0.3800 - Output2_accuracy: 0.7900 - Output2_loss: 0.6105 - loss: 0.5183\n",
      "Epoch 9/10\n",
      "\u001b[1m195/195\u001b[0m \u001b[32m━━━━━━━━━━━━━━━━━━━━\u001b[0m\u001b[37m\u001b[0m \u001b[1m3s\u001b[0m 16ms/step - Output1_accuracy: 0.8754 - Output1_loss: 0.3694 - Output2_accuracy: 0.7996 - Output2_loss: 0.5759 - loss: 0.4933\n",
      "Epoch 10/10\n",
      "\u001b[1m195/195\u001b[0m \u001b[32m━━━━━━━━━━━━━━━━━━━━\u001b[0m\u001b[37m\u001b[0m \u001b[1m3s\u001b[0m 15ms/step - Output1_accuracy: 0.8799 - Output1_loss: 0.3591 - Output2_accuracy: 0.8006 - Output2_loss: 0.5530 - loss: 0.4755\n"
     ]
    },
    {
     "data": {
      "text/plain": [
       "<keras.src.callbacks.history.History at 0x721e0c354fe0>"
      ]
     },
     "execution_count": 65,
     "metadata": {},
     "output_type": "execute_result"
    }
   ],
   "source": [
    "way_model.fit([way_x_1, way_x_2], [way_y_1, way_y_2], epochs=10,)"
   ]
  },
  {
   "cell_type": "code",
   "execution_count": 66,
   "id": "b0fb267e",
   "metadata": {},
   "outputs": [
    {
     "name": "stderr",
     "output_type": "stream",
     "text": [
      "WARNING:absl:You are saving your model as an HDF5 file via `model.save()` or `keras.saving.save_model(model)`. This file format is considered legacy. We recommend using instead the native Keras format, e.g. `model.save('my_model.keras')` or `keras.saving.save_model(model, 'my_model.keras')`. \n"
     ]
    }
   ],
   "source": [
    "way_model.save(\"saved_models/way_model.h5\")"
   ]
  },
  {
   "cell_type": "markdown",
   "id": "0e3b3237",
   "metadata": {},
   "source": [
    "# Callback API"
   ]
  },
  {
   "cell_type": "code",
   "execution_count": 67,
   "id": "3ca95c03",
   "metadata": {},
   "outputs": [
    {
     "name": "stderr",
     "output_type": "stream",
     "text": [
      "WARNING:absl:Compiled the loaded model, but the compiled metrics have yet to be built. `model.compile_metrics` will be empty until you train or evaluate the model.\n"
     ]
    },
    {
     "name": "stdout",
     "output_type": "stream",
     "text": [
      "Epoch 1/100\n"
     ]
    },
    {
     "ename": "ValueError",
     "evalue": "Unknown variable: <Variable path=dense_28/kernel, shape=(12, 256), dtype=float32, value=[[-0.12806417 -0.07438194  0.09988357 ...  0.06774746  0.08367748\n   0.0611785 ]\n [-0.09127752 -0.09386597  0.10689352 ... -0.14772521 -0.00604143\n  -0.03643768]\n [ 0.04698007  0.01530494  0.0993555  ... -0.07415178  0.03881814\n   0.04949281]\n ...\n [ 0.11256915 -0.02345571 -0.14415427 ...  0.070415   -0.06331863\n   0.04910889]\n [ 0.11760951  0.01091499 -0.12454256 ... -0.07069007 -0.08799417\n  -0.08903288]\n [ 0.12009685 -0.03365263 -0.12666239 ... -0.14597721 -0.12785925\n  -0.13495791]]>. This optimizer can only be called for the variables it was originally built with. When working with a new set of variables, you should recreate a new optimizer instance.",
     "output_type": "error",
     "traceback": [
      "\u001b[31m---------------------------------------------------------------------------\u001b[39m",
      "\u001b[31mValueError\u001b[39m                                Traceback (most recent call last)",
      "\u001b[36mCell\u001b[39m\u001b[36m \u001b[39m\u001b[32mIn[67]\u001b[39m\u001b[32m, line 11\u001b[39m\n\u001b[32m      3\u001b[39m way_model_loaded = keras.models.load_model(\u001b[33m\"\u001b[39m\u001b[33msaved_models/way_model.h5\u001b[39m\u001b[33m\"\u001b[39m)\n\u001b[32m      4\u001b[39m my_callbacks = [\n\u001b[32m      5\u001b[39m     keras.callbacks.EarlyStopping(patience=\u001b[32m15\u001b[39m, restore_best_weights=\u001b[38;5;28;01mTrue\u001b[39;00m, monitor=\u001b[33m\"\u001b[39m\u001b[33mval_loss\u001b[39m\u001b[33m\"\u001b[39m, verbose=\u001b[32m0\u001b[39m),\n\u001b[32m      6\u001b[39m     keras.callbacks.ModelCheckpoint(\u001b[33m\"\u001b[39m\u001b[33msaved_models/way_model.h5\u001b[39m\u001b[33m\"\u001b[39m, save_best_only=\u001b[38;5;28;01mTrue\u001b[39;00m),\n\u001b[32m      7\u001b[39m     keras.callbacks.ReduceLROnPlateau(monitor=\u001b[33m\"\u001b[39m\u001b[33mval_loss\u001b[39m\u001b[33m\"\u001b[39m, factor=\u001b[32m0.2\u001b[39m, patience=\u001b[32m5\u001b[39m, verbose=\u001b[32m1\u001b[39m, min_lr=\u001b[32m0.0001\u001b[39m),\n\u001b[32m      8\u001b[39m     keras.callbacks.LambdaCallback(on_train_end=\u001b[38;5;28;01mlambda\u001b[39;00m logs: \u001b[38;5;28mprint\u001b[39m(\u001b[33m\"\u001b[39m\u001b[33mTraining ended\u001b[39m\u001b[33m\"\u001b[39m))\n\u001b[32m      9\u001b[39m ]\n\u001b[32m---> \u001b[39m\u001b[32m11\u001b[39m \u001b[43mway_model_loaded\u001b[49m\u001b[43m.\u001b[49m\u001b[43mfit\u001b[49m\u001b[43m(\u001b[49m\u001b[43m[\u001b[49m\u001b[43mway_x_1\u001b[49m\u001b[43m,\u001b[49m\u001b[43m \u001b[49m\u001b[43mway_x_2\u001b[49m\u001b[43m]\u001b[49m\u001b[43m,\u001b[49m\u001b[43m \u001b[49m\u001b[43m[\u001b[49m\u001b[43mway_y_1\u001b[49m\u001b[43m,\u001b[49m\u001b[43m \u001b[49m\u001b[43mway_y_2\u001b[49m\u001b[43m]\u001b[49m\u001b[43m,\u001b[49m\u001b[43m \u001b[49m\u001b[43mepochs\u001b[49m\u001b[43m=\u001b[49m\u001b[32;43m100\u001b[39;49m\u001b[43m,\u001b[49m\u001b[43m \u001b[49m\u001b[43mvalidation_split\u001b[49m\u001b[43m=\u001b[49m\u001b[32;43m0.2\u001b[39;49m\u001b[43m,\u001b[49m\u001b[43m \u001b[49m\u001b[43mcallbacks\u001b[49m\u001b[43m=\u001b[49m\u001b[43mmy_callbacks\u001b[49m\u001b[43m)\u001b[49m\n",
      "\u001b[36mFile \u001b[39m\u001b[32m~/Desktop/DeepLearning/.venv/lib/python3.12/site-packages/keras/src/utils/traceback_utils.py:122\u001b[39m, in \u001b[36mfilter_traceback.<locals>.error_handler\u001b[39m\u001b[34m(*args, **kwargs)\u001b[39m\n\u001b[32m    119\u001b[39m     filtered_tb = _process_traceback_frames(e.__traceback__)\n\u001b[32m    120\u001b[39m     \u001b[38;5;66;03m# To get the full stack trace, call:\u001b[39;00m\n\u001b[32m    121\u001b[39m     \u001b[38;5;66;03m# `keras.config.disable_traceback_filtering()`\u001b[39;00m\n\u001b[32m--> \u001b[39m\u001b[32m122\u001b[39m     \u001b[38;5;28;01mraise\u001b[39;00m e.with_traceback(filtered_tb) \u001b[38;5;28;01mfrom\u001b[39;00m\u001b[38;5;250m \u001b[39m\u001b[38;5;28;01mNone\u001b[39;00m\n\u001b[32m    123\u001b[39m \u001b[38;5;28;01mfinally\u001b[39;00m:\n\u001b[32m    124\u001b[39m     \u001b[38;5;28;01mdel\u001b[39;00m filtered_tb\n",
      "\u001b[36mFile \u001b[39m\u001b[32m~/Desktop/DeepLearning/.venv/lib/python3.12/site-packages/keras/src/optimizers/base_optimizer.py:409\u001b[39m, in \u001b[36mBaseOptimizer._check_variables_are_known\u001b[39m\u001b[34m(self, variables)\u001b[39m\n\u001b[32m    407\u001b[39m \u001b[38;5;28;01mfor\u001b[39;00m v \u001b[38;5;129;01min\u001b[39;00m variables:\n\u001b[32m    408\u001b[39m     \u001b[38;5;28;01mif\u001b[39;00m \u001b[38;5;28mself\u001b[39m._var_key(v) \u001b[38;5;129;01mnot\u001b[39;00m \u001b[38;5;129;01min\u001b[39;00m \u001b[38;5;28mself\u001b[39m._trainable_variables_indices:\n\u001b[32m--> \u001b[39m\u001b[32m409\u001b[39m         \u001b[38;5;28;01mraise\u001b[39;00m \u001b[38;5;167;01mValueError\u001b[39;00m(\n\u001b[32m    410\u001b[39m             \u001b[33mf\u001b[39m\u001b[33m\"\u001b[39m\u001b[33mUnknown variable: \u001b[39m\u001b[38;5;132;01m{\u001b[39;00mv\u001b[38;5;132;01m}\u001b[39;00m\u001b[33m. This optimizer can only \u001b[39m\u001b[33m\"\u001b[39m\n\u001b[32m    411\u001b[39m             \u001b[33m\"\u001b[39m\u001b[33mbe called for the variables it was originally built with. \u001b[39m\u001b[33m\"\u001b[39m\n\u001b[32m    412\u001b[39m             \u001b[33m\"\u001b[39m\u001b[33mWhen working with a new set of variables, you should \u001b[39m\u001b[33m\"\u001b[39m\n\u001b[32m    413\u001b[39m             \u001b[33m\"\u001b[39m\u001b[33mrecreate a new optimizer instance.\u001b[39m\u001b[33m\"\u001b[39m\n\u001b[32m    414\u001b[39m         )\n",
      "\u001b[31mValueError\u001b[39m: Unknown variable: <Variable path=dense_28/kernel, shape=(12, 256), dtype=float32, value=[[-0.12806417 -0.07438194  0.09988357 ...  0.06774746  0.08367748\n   0.0611785 ]\n [-0.09127752 -0.09386597  0.10689352 ... -0.14772521 -0.00604143\n  -0.03643768]\n [ 0.04698007  0.01530494  0.0993555  ... -0.07415178  0.03881814\n   0.04949281]\n ...\n [ 0.11256915 -0.02345571 -0.14415427 ...  0.070415   -0.06331863\n   0.04910889]\n [ 0.11760951  0.01091499 -0.12454256 ... -0.07069007 -0.08799417\n  -0.08903288]\n [ 0.12009685 -0.03365263 -0.12666239 ... -0.14597721 -0.12785925\n  -0.13495791]]>. This optimizer can only be called for the variables it was originally built with. When working with a new set of variables, you should recreate a new optimizer instance."
     ]
    }
   ],
   "source": [
    "del way_model\n",
    "\n",
    "way_model_loaded = keras.models.load_model(\"saved_models/way_model.h5\")\n",
    "my_callbacks = [\n",
    "    keras.callbacks.EarlyStopping(patience=15, restore_best_weights=True, monitor=\"val_loss\", verbose=0),\n",
    "    keras.callbacks.ModelCheckpoint(\"saved_models/way_model.h5\", save_best_only=True),\n",
    "    keras.callbacks.ReduceLROnPlateau(monitor=\"val_loss\", factor=0.2, patience=5, verbose=1, min_lr=0.0001),\n",
    "    keras.callbacks.LambdaCallback(on_train_end=lambda logs: print(\"Training ended\"))\n",
    "]\n",
    "\n",
    "way_model_loaded.fit([way_x_1, way_x_2], [way_y_1, way_y_2], epochs=100, validation_split=0.2, callbacks=my_callbacks)"
   ]
  }
 ],
 "metadata": {
  "kernelspec": {
   "display_name": ".venv",
   "language": "python",
   "name": "python3"
  },
  "language_info": {
   "codemirror_mode": {
    "name": "ipython",
    "version": 3
   },
   "file_extension": ".py",
   "mimetype": "text/x-python",
   "name": "python",
   "nbconvert_exporter": "python",
   "pygments_lexer": "ipython3",
   "version": "3.12.3"
  }
 },
 "nbformat": 4,
 "nbformat_minor": 5
}
