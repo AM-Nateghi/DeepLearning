{
 "cells": [
  {
   "cell_type": "code",
   "execution_count": 12,
   "id": "1dd50c9e",
   "metadata": {},
   "outputs": [],
   "source": [
    "from keras.datasets import cifar10\n",
    "import matplotlib.pyplot as plt\n",
    "import pandas as pd\n",
    "import numpy as np\n",
    "import keras\n",
    "import tensorflow as tf\n",
    "from keras.layers import (\n",
    "    Input,\n",
    "    Dense,\n",
    "    Flatten,\n",
    "    BatchNormalization,\n",
    "    AlphaDropout,\n",
    "    Dropout,\n",
    ")"
   ]
  },
  {
   "cell_type": "code",
   "execution_count": 8,
   "id": "a6221bad",
   "metadata": {},
   "outputs": [
    {
     "name": "stdout",
     "output_type": "stream",
     "text": [
      "Training data shape: (50000, 32, 32, 3), (50000, 1)\n",
      "Test data shape: (10000, 32, 32, 3), (10000, 1)\n"
     ]
    }
   ],
   "source": [
    "(xtrain, ytrain), (xtest, ytest) = cifar10.load_data()\n",
    "print(f\"Training data shape: {xtrain.shape}, {ytrain.shape}\")\n",
    "print(f\"Test data shape: {xtest.shape}, {ytest.shape}\")"
   ]
  },
  {
   "cell_type": "code",
   "execution_count": 13,
   "id": "1ab786be",
   "metadata": {},
   "outputs": [
    {
     "name": "stderr",
     "output_type": "stream",
     "text": [
      "/home/aqr/Desktop/DeepLearning/.venv/lib/python3.12/site-packages/keras/src/layers/reshaping/flatten.py:37: UserWarning: Do not pass an `input_shape`/`input_dim` argument to a layer. When using Sequential models, prefer using an `Input(shape)` object as the first layer in the model instead.\n",
      "  super().__init__(**kwargs)\n",
      "2025-09-09 16:31:31.509039: E external/local_xla/xla/stream_executor/cuda/cuda_platform.cc:51] failed call to cuInit: INTERNAL: CUDA error: Failed call to cuInit: UNKNOWN ERROR (303)\n"
     ]
    }
   ],
   "source": [
    "model = keras.models.Sequential(\n",
    "    [\n",
    "        Flatten(input_shape=(32, 32, 3)),\n",
    "        Dense(50, activation=\"selu\"),\n",
    "        AlphaDropout(0.1),\n",
    "        Dense(50, activation=\"selu\"),\n",
    "        AlphaDropout(0.1),\n",
    "        Dense(10, activation=\"softmax\"),\n",
    "    ]\n",
    ")\n",
    "model.compile(optimizer=\"adam\", loss=\"sparse_categorical_crossentropy\", metrics=[\"accuracy\"])"
   ]
  },
  {
   "cell_type": "code",
   "execution_count": null,
   "id": "9e59eded",
   "metadata": {},
   "outputs": [],
   "source": [
    "callbacks = [keras.callbacks.LambdaCallback(on_epoch_end=lambda epoch, logs: print(f\"weights in: {model.get_weights()} in epoch 50\")if epoch >= 50 else None)]\n",
    "\n",
    "model.fit(xtrain, ytrain, epochs=60, validation_data=(xtest, ytest), callbacks=callbacks)"
   ]
  }
 ],
 "metadata": {
  "kernelspec": {
   "display_name": ".venv",
   "language": "python",
   "name": "python3"
  },
  "language_info": {
   "codemirror_mode": {
    "name": "ipython",
    "version": 3
   },
   "file_extension": ".py",
   "mimetype": "text/x-python",
   "name": "python",
   "nbconvert_exporter": "python",
   "pygments_lexer": "ipython3",
   "version": "3.12.3"
  }
 },
 "nbformat": 4,
 "nbformat_minor": 5
}
