{
 "cells": [
  {
   "cell_type": "markdown",
   "id": "32c0fcc4",
   "metadata": {},
   "source": [
    "# Basic Project \n",
    "\n",
    "فرض کنید دیتاستی با 10000 سطر و 16 ستون دارید که ستون 16ام، ستون هدف شماست. هدف ساختن شبكه عصبي‌ای برای پیشبینی ستون 16ام (ستون عددي با مقادير پيوسته) بر اساس 15 ستون ديگر است. به جز لايه ورودي و خروجي، شبكه شما 3 لايه مياني (مخفي) با تعداد نورون به ترتيب 100، 150 و 75 دارد. ابعاد ورودي، خروجي، وزن و باياس هر لايه را محاسبه كنيد.\n"
   ]
  },
  {
   "cell_type": "code",
   "execution_count": null,
   "id": "8e55f482",
   "metadata": {},
   "outputs": [],
   "source": [
    "import keras\n",
    "from sklearn.model_selection import train_test_split\n",
    "from sklearn.datasets import make_regression\n",
    "from sklearn.preprocessing import StandardScaler\n",
    "from keras.layers import Input, Dense, Concatenate\n",
    "from keras.models import Model\n",
    "from keras.callbacks import (\n",
    "    EarlyStopping,\n",
    "    ModelCheckpoint,\n",
    "    ReduceLROnPlateau,\n",
    "    LambdaCallback,\n",
    ")\n",
    "import joblib\n",
    "\n",
    "threads = int(joblib.cpu_count() * 0.9)"
   ]
  },
  {
   "cell_type": "code",
   "execution_count": 10,
   "id": "1699571d",
   "metadata": {},
   "outputs": [
    {
     "name": "stdout",
     "output_type": "stream",
     "text": [
      "(10000, 15) (10000,)\n"
     ]
    }
   ],
   "source": [
    "dataset = make_regression(n_samples=10000, n_features=15, noise=0.01, n_informative=10, random_state=9)\n",
    "x, y = dataset\n",
    "\n",
    "print(x.shape, y.shape)"
   ]
  },
  {
   "cell_type": "code",
   "execution_count": 12,
   "id": "6bfa0876",
   "metadata": {},
   "outputs": [
    {
     "name": "stderr",
     "output_type": "stream",
     "text": [
      "2025-09-04 18:09:22.835132: E external/local_xla/xla/stream_executor/cuda/cuda_platform.cc:51] failed call to cuInit: INTERNAL: CUDA error: Failed call to cuInit: UNKNOWN ERROR (303)\n"
     ]
    }
   ],
   "source": [
    "input_layer = Input(shape=(15,), name=\"input_layer\")\n",
    "hidden_layer_1 = Dense(100, activation=\"relu\", name=\"hidden_layer_1\")(input_layer)\n",
    "hidden_layer_2 = Dense(150, activation=\"tanh\", name=\"hidden_layer_2\")(hidden_layer_1)\n",
    "hidden_layer_3 = Dense(75, activation=\"relu\", name=\"hidden_layer_3\")(hidden_layer_2)\n",
    "output_layer = Dense(1, activation=\"linear\", name=\"output_layer\")(hidden_layer_3)"
   ]
  },
  {
   "cell_type": "code",
   "execution_count": 13,
   "id": "20fa36c8",
   "metadata": {},
   "outputs": [
    {
     "name": "stdout",
     "output_type": "stream",
     "text": [
      "Layer: hidden_layer_1\n",
      "Weights shape: (15, 100)\n",
      "Biases shape: (100,)\n",
      "------------------------------\n",
      "Layer: hidden_layer_2\n",
      "Weights shape: (100, 150)\n",
      "Biases shape: (150,)\n",
      "------------------------------\n",
      "Layer: hidden_layer_3\n",
      "Weights shape: (150, 75)\n",
      "Biases shape: (75,)\n",
      "------------------------------\n",
      "Layer: output_layer\n",
      "Weights shape: (75, 1)\n",
      "Biases shape: (1,)\n",
      "------------------------------\n"
     ]
    }
   ],
   "source": [
    "model = Model(inputs=input_layer, outputs=output_layer)\n",
    "for layer in model.layers:\n",
    "    if isinstance(layer, Dense):\n",
    "        weights, biases = layer.get_weights()\n",
    "        print(f\"Layer: {layer.name}\")\n",
    "        print(f\"Weights shape: {weights.shape}\")\n",
    "        print(f\"Biases shape: {biases.shape}\")\n",
    "        print(\"-\" * 30) "
   ]
  }
 ],
 "metadata": {
  "kernelspec": {
   "display_name": ".venv",
   "language": "python",
   "name": "python3"
  },
  "language_info": {
   "codemirror_mode": {
    "name": "ipython",
    "version": 3
   },
   "file_extension": ".py",
   "mimetype": "text/x-python",
   "name": "python",
   "nbconvert_exporter": "python",
   "pygments_lexer": "ipython3",
   "version": "3.12.3"
  }
 },
 "nbformat": 4,
 "nbformat_minor": 5
}
