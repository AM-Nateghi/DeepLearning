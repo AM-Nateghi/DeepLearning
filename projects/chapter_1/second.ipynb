{
 "cells": [
  {
   "cell_type": "markdown",
   "id": "04f5449f",
   "metadata": {},
   "source": [
    "# CIFAR-10 Project"
   ]
  },
  {
   "cell_type": "code",
   "execution_count": null,
   "id": "34c01716",
   "metadata": {},
   "outputs": [],
   "source": [
    "import keras\n",
    "from keras.layers import Input, Dense, Concatenate\n",
    "from sklearn.model_selection import GridSearchCV, train_test_split\n",
    "from scikeras.wrappers import KerasRegressor\n",
    "from keras.models import Model\n",
    "from keras.datasets import cifar10\n",
    "import joblib\n",
    "import numpy as np\n",
    "import pandas as pd\n",
    "\n",
    "threads = int(joblib.cpu_count() * 0.9)"
   ]
  },
  {
   "cell_type": "markdown",
   "id": "3f6f1594",
   "metadata": {},
   "source": [
    "## Preprocessing"
   ]
  },
  {
   "cell_type": "code",
   "execution_count": null,
   "id": "add6a435",
   "metadata": {},
   "outputs": [],
   "source": [
    "(x_train, y_train), (x_test, y_test) = keras.datasets.cifar10.load_data()\n",
    "\n",
    "x = np.vstack((x_train, x_test))\n",
    "y = np.vstack((y_train, y_test))\n",
    "y = y.flatten()\n",
    "\n",
    "print(f\"data shape: {x.shape}, {y.shape}\")\n",
    "\n",
    "x_train, x_test, y_train, y_test = train_test_split(x, y, test_size=0.15, random_state=7)\n",
    "print(f\"Training data shape: {x_train.shape}, {y_train.shape}\")\n",
    "print(f\"Test data shape: {x_test.shape}, {y_test.shape}\")\n",
    "\n",
    "x_train_flat = x_train.reshape((x_train.shape[0], -1))\n",
    "x_test_flat = x_test.reshape((x_test.shape[0], -1))\n",
    "\n",
    "print(f\"Flattened data shape: {x_train_flat.shape}, {x_test_flat.shape}\")"
   ]
  },
  {
   "cell_type": "code",
   "execution_count": null,
   "id": "d703120c",
   "metadata": {},
   "outputs": [],
   "source": [
    "print(np.unique(y, return_counts=True))\n",
    "\n",
    "input_layer = Input(shape=(3072,), name=\"input_layer\")\n",
    "hidden_layer_1 = Dense(512, activation=\"tanh\", name=\"hidden_layer_1\")(input_layer)\n",
    "hidden_layer_2 = Dense(256, activation=\"relu\", name=\"hidden_layer_2\")(hidden_layer_1)\n",
    "hidden_layer_3 = Dense(128, activation=\"relu\", name=\"hidden_layer_3\")(hidden_layer_2)\n",
    "output_layer = Dense(10, activation=\"softmax\", name=\"output_layer\")(hidden_layer_3)"
   ]
  },
  {
   "cell_type": "code",
   "execution_count": null,
   "id": "10276df5",
   "metadata": {},
   "outputs": [],
   "source": [
    "model = Model(inputs=input_layer, outputs=output_layer)\n",
    "\n",
    "model.compile(optimizer=\"sgd\", loss=\"sparse_categorical_crossentropy\", metrics=[\"accuracy\"])"
   ]
  },
  {
   "cell_type": "code",
   "execution_count": null,
   "id": "a45c4f4e",
   "metadata": {},
   "outputs": [],
   "source": [
    "callbacks = [\n",
    "    keras.callbacks.EarlyStopping(monitor=\"val_loss\", patience=8),\n",
    "    keras.callbacks.ModelCheckpoint(\"best_model.keras\", save_best_only=True, monitor=\"val_loss\"),\n",
    "    keras.callbacks.ReduceLROnPlateau(monitor=\"val_loss\", factor=0.5, patience=5)\n",
    "]\n",
    "\n",
    "model.fit(x_train_flat, y_train, validation_split=0.2, epochs=100, batch_size=32, callbacks=callbacks)"
   ]
  },
  {
   "cell_type": "markdown",
   "id": "0d67fad9",
   "metadata": {},
   "source": [
    "## Evaluate Model"
   ]
  },
  {
   "cell_type": "code",
   "execution_count": null,
   "id": "dfb416d6",
   "metadata": {},
   "outputs": [],
   "source": [
    "model.evaluate(x_test_flat, y_test, batch_size=32)"
   ]
  }
 ],
 "metadata": {
  "kernelspec": {
   "display_name": ".venv",
   "language": "python",
   "name": "python3"
  },
  "language_info": {
   "codemirror_mode": {
    "name": "ipython",
    "version": 3
   },
   "file_extension": ".py",
   "mimetype": "text/x-python",
   "name": "python",
   "nbconvert_exporter": "python",
   "pygments_lexer": "ipython3",
   "version": "3.12.3"
  }
 },
 "nbformat": 4,
 "nbformat_minor": 5
}
