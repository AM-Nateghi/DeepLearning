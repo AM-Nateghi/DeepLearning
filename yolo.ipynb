{
 "cells": [
  {
   "cell_type": "markdown",
   "id": "c3956f1a",
   "metadata": {},
   "source": [
    "## Object Detection with YOLO\n",
    "در این سلول، تصویر client_img.jpg با مدل YOLO دیتکت می‌شود و آبجکت‌های موجود نمایش داده می‌شوند."
   ]
  },
  {
   "cell_type": "code",
   "execution_count": 4,
   "id": "84d3b5fd",
   "metadata": {},
   "outputs": [
    {
     "name": "stdout",
     "output_type": "stream",
     "text": [
      "\n",
      "image 1/1 /home/aqr/Desktop/DeepLearning/projects/client_pouria.jpg: 512x640 2 persons, 1 cup, 1 chair, 2 tvs, 2 mouses, 1 remote, 2 keyboards, 37.8ms\n",
      "Speed: 1.5ms preprocess, 37.8ms inference, 1.4ms postprocess per image at shape (1, 3, 512, 640)\n",
      "کلاس: person, اطمینان: 0.92\n",
      "کلاس: keyboard, اطمینان: 0.88\n",
      "کلاس: person, اطمینان: 0.87\n",
      "کلاس: tv, اطمینان: 0.86\n",
      "کلاس: mouse, اطمینان: 0.73\n",
      "کلاس: chair, اطمینان: 0.59\n",
      "کلاس: remote, اطمینان: 0.38\n",
      "کلاس: mouse, اطمینان: 0.38\n",
      "کلاس: cup, اطمینان: 0.37\n",
      "کلاس: tv, اطمینان: 0.31\n",
      "کلاس: keyboard, اطمینان: 0.30\n"
     ]
    },
    {
     "name": "stdout",
     "output_type": "stream",
     "text": [
      "Opening in existing browser session.\n"
     ]
    }
   ],
   "source": [
    "from ultralytics import YOLO\n",
    "import matplotlib.pyplot as plt\n",
    "import cv2\n",
    "\n",
    "# بارگذاری مدل YOLO\n",
    "model = YOLO('yolov8n.pt')  # مدل سبک و سریع\n",
    "\n",
    "# بارگذاری تصویر\n",
    "img_path = 'projects/client_pouria.jpg'\n",
    "img = cv2.imread(img_path)\n",
    "\n",
    "# تشخیص اشیاء\n",
    "results = model(img_path)\n",
    "\n",
    "# نمایش تصویر با آبجکت‌های دیتکت شده\n",
    "results[0].show()  # نمایش تصویر با باکس‌ها\n",
    "\n",
    "# نمایش لیست اشیاء دیتکت شده\n",
    "for box in results[0].boxes:\n",
    "    cls = int(box.cls[0])\n",
    "    conf = float(box.conf[0])\n",
    "    print(f'کلاس: {model.names[cls]}, اطمینان: {conf:.2f}')"
   ]
  }
 ],
 "metadata": {
  "kernelspec": {
   "display_name": ".venv",
   "language": "python",
   "name": "python3"
  },
  "language_info": {
   "codemirror_mode": {
    "name": "ipython",
    "version": 3
   },
   "file_extension": ".py",
   "mimetype": "text/x-python",
   "name": "python",
   "nbconvert_exporter": "python",
   "pygments_lexer": "ipython3",
   "version": "3.12.3"
  }
 },
 "nbformat": 4,
 "nbformat_minor": 5
}
