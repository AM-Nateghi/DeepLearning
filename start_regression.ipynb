{
 "cells": [
  {
   "cell_type": "code",
   "execution_count": 8,
   "id": "c7c1b139",
   "metadata": {},
   "outputs": [
    {
     "data": {
      "image/png": "[encoded data removed]",
      "text/plain": [
       "<Figure size 640x480 with 1 Axes>"
      ]
     },
     "metadata": {},
     "output_type": "display_data"
    }
   ],
   "source": [
    "import tensorflow as tf\n",
    "import keras\n",
    "from sklearn.model_selection import train_test_split\n",
    "from sklearn.datasets._california_housing import fetch_california_housing\n",
    "from sklearn.preprocessing import StandardScaler\n",
    "import numpy as np\n",
    "import matplotlib.pyplot as plt\n",
    "\n",
    "california_housing = fetch_california_housing()\n",
    "x = california_housing.data\n",
    "y = california_housing.target\n",
    "\n",
    "# Data classes distribution\n",
    "unique, counts = np.unique(y, return_counts=True)\n",
    "plt.bar(unique, counts)\n",
    "plt.xlabel('House Value')\n",
    "plt.ylabel('Frequency')\n",
    "plt.title('Distribution of House Values')\n",
    "plt.show()"
   ]
  },
  {
   "cell_type": "markdown",
   "id": "9cbb9df6",
   "metadata": {},
   "source": [
    "# Preprocessing & Model Training"
   ]
  },
  {
   "cell_type": "code",
   "execution_count": 43,
   "id": "5bab08d0",
   "metadata": {},
   "outputs": [],
   "source": [
    "_xtrain, test_x, _ytrain, test_y = train_test_split(x, y, test_size=0.2, random_state=42)\n",
    "\n",
    "scaler = StandardScaler()\n",
    "_xtrain_scaled = scaler.fit_transform(_xtrain)\n",
    "test_x_scaled = scaler.transform(test_x)\n",
    "\n",
    "train_x, val_x, train_y, val_y = train_test_split(_xtrain_scaled, _ytrain, test_size=0.2, random_state=42)"
   ]
  },
  {
   "cell_type": "code",
   "execution_count": null,
   "id": "4539bc81",
   "metadata": {},
   "outputs": [],
   "source": [
    "model = keras.Sequential([\n",
    "    keras.layers.Dense(100, activation='relu', input_shape=(train_x.shape[1],)),\n",
    "    keras.layers.Dense(256, activation='relu'),\n",
    "    keras.layers.Dense(128, activation='relu'),\n",
    "    keras.layers.Dense(1)\n",
    "])\n",
    "\n",
    "model.compile(optimizer='sgd', loss='mean_squared_error', metrics=['r2_score', 'root_mean_squared_error'])\n"
   ]
  },
  {
   "cell_type": "code",
   "execution_count": 45,
   "id": "10fe8b76",
   "metadata": {},
   "outputs": [
    {
     "name": "stdout",
     "output_type": "stream",
     "text": [
      "Epoch 1/30\n",
      "\u001b[1m413/413\u001b[0m \u001b[32m━━━━━━━━━━━━━━━━━━━━\u001b[0m\u001b[37m\u001b[0m \u001b[1m1s\u001b[0m 2ms/step - loss: 0.8106 - r2_score: 0.3886 - root_mean_squared_error: 0.9004 - val_loss: 0.5954 - val_r2_score: 0.5685 - val_root_mean_squared_error: 0.7716\n",
      "Epoch 2/30\n",
      "\u001b[1m413/413\u001b[0m \u001b[32m━━━━━━━━━━━━━━━━━━━━\u001b[0m\u001b[37m\u001b[0m \u001b[1m1s\u001b[0m 1ms/step - loss: 0.5168 - r2_score: 0.6102 - root_mean_squared_error: 0.7189 - val_loss: 0.5096 - val_r2_score: 0.6307 - val_root_mean_squared_error: 0.7139\n",
      "Epoch 3/30\n",
      "\u001b[1m413/413\u001b[0m \u001b[32m━━━━━━━━━━━━━━━━━━━━\u001b[0m\u001b[37m\u001b[0m \u001b[1m1s\u001b[0m 1ms/step - loss: 0.4599 - r2_score: 0.6531 - root_mean_squared_error: 0.6781 - val_loss: 0.4966 - val_r2_score: 0.6401 - val_root_mean_squared_error: 0.7047\n",
      "Epoch 4/30\n",
      "\u001b[1m413/413\u001b[0m \u001b[32m━━━━━━━━━━━━━━━━━━━━\u001b[0m\u001b[37m\u001b[0m \u001b[1m1s\u001b[0m 1ms/step - loss: 0.4278 - r2_score: 0.6773 - root_mean_squared_error: 0.6541 - val_loss: 0.4426 - val_r2_score: 0.6793 - val_root_mean_squared_error: 0.6653\n",
      "Epoch 5/30\n",
      "\u001b[1m413/413\u001b[0m \u001b[32m━━━━━━━━━━━━━━━━━━━━\u001b[0m\u001b[37m\u001b[0m \u001b[1m1s\u001b[0m 1ms/step - loss: 0.4117 - r2_score: 0.6895 - root_mean_squared_error: 0.6416 - val_loss: 0.4386 - val_r2_score: 0.6821 - val_root_mean_squared_error: 0.6623\n",
      "Epoch 6/30\n",
      "\u001b[1m413/413\u001b[0m \u001b[32m━━━━━━━━━━━━━━━━━━━━\u001b[0m\u001b[37m\u001b[0m \u001b[1m1s\u001b[0m 1ms/step - loss: 0.4004 - r2_score: 0.6980 - root_mean_squared_error: 0.6328 - val_loss: 0.4354 - val_r2_score: 0.6845 - val_root_mean_squared_error: 0.6599\n",
      "Epoch 7/30\n",
      "\u001b[1m413/413\u001b[0m \u001b[32m━━━━━━━━━━━━━━━━━━━━\u001b[0m\u001b[37m\u001b[0m \u001b[1m1s\u001b[0m 1ms/step - loss: 0.3907 - r2_score: 0.7053 - root_mean_squared_error: 0.6250 - val_loss: 0.4218 - val_r2_score: 0.6944 - val_root_mean_squared_error: 0.6494\n",
      "Epoch 8/30\n",
      "\u001b[1m413/413\u001b[0m \u001b[32m━━━━━━━━━━━━━━━━━━━━\u001b[0m\u001b[37m\u001b[0m \u001b[1m1s\u001b[0m 1ms/step - loss: 0.3831 - r2_score: 0.7111 - root_mean_squared_error: 0.6189 - val_loss: 0.4229 - val_r2_score: 0.6935 - val_root_mean_squared_error: 0.6503\n",
      "Epoch 9/30\n",
      "\u001b[1m413/413\u001b[0m \u001b[32m━━━━━━━━━━━━━━━━━━━━\u001b[0m\u001b[37m\u001b[0m \u001b[1m1s\u001b[0m 1ms/step - loss: 0.3784 - r2_score: 0.7146 - root_mean_squared_error: 0.6151 - val_loss: 0.4166 - val_r2_score: 0.6981 - val_root_mean_squared_error: 0.6454\n",
      "Epoch 10/30\n",
      "\u001b[1m413/413\u001b[0m \u001b[32m━━━━━━━━━━━━━━━━━━━━\u001b[0m\u001b[37m\u001b[0m \u001b[1m0s\u001b[0m 1ms/step - loss: 0.3749 - r2_score: 0.7173 - root_mean_squared_error: 0.6123 - val_loss: 0.4026 - val_r2_score: 0.7082 - val_root_mean_squared_error: 0.6345\n",
      "Epoch 11/30\n",
      "\u001b[1m413/413\u001b[0m \u001b[32m━━━━━━━━━━━━━━━━━━━━\u001b[0m\u001b[37m\u001b[0m \u001b[1m1s\u001b[0m 1ms/step - loss: 0.3696 - r2_score: 0.7212 - root_mean_squared_error: 0.6079 - val_loss: 0.4372 - val_r2_score: 0.6832 - val_root_mean_squared_error: 0.6612\n",
      "Epoch 12/30\n",
      "\u001b[1m413/413\u001b[0m \u001b[32m━━━━━━━━━━━━━━━━━━━━\u001b[0m\u001b[37m\u001b[0m \u001b[1m1s\u001b[0m 1ms/step - loss: 0.3667 - r2_score: 0.7234 - root_mean_squared_error: 0.6055 - val_loss: 0.4161 - val_r2_score: 0.6985 - val_root_mean_squared_error: 0.6451\n",
      "Epoch 13/30\n",
      "\u001b[1m413/413\u001b[0m \u001b[32m━━━━━━━━━━━━━━━━━━━━\u001b[0m\u001b[37m\u001b[0m \u001b[1m1s\u001b[0m 1ms/step - loss: 0.3628 - r2_score: 0.7264 - root_mean_squared_error: 0.6023 - val_loss: 0.3894 - val_r2_score: 0.7178 - val_root_mean_squared_error: 0.6240\n",
      "Epoch 14/30\n",
      "\u001b[1m413/413\u001b[0m \u001b[32m━━━━━━━━━━━━━━━━━━━━\u001b[0m\u001b[37m\u001b[0m \u001b[1m1s\u001b[0m 1ms/step - loss: 0.3591 - r2_score: 0.7292 - root_mean_squared_error: 0.5992 - val_loss: 0.3956 - val_r2_score: 0.7133 - val_root_mean_squared_error: 0.6290\n",
      "Epoch 15/30\n",
      "\u001b[1m413/413\u001b[0m \u001b[32m━━━━━━━━━━━━━━━━━━━━\u001b[0m\u001b[37m\u001b[0m \u001b[1m1s\u001b[0m 1ms/step - loss: 0.3564 - r2_score: 0.7312 - root_mean_squared_error: 0.5970 - val_loss: 0.4420 - val_r2_score: 0.6797 - val_root_mean_squared_error: 0.6648\n",
      "Epoch 16/30\n",
      "\u001b[1m413/413\u001b[0m \u001b[32m━━━━━━━━━━━━━━━━━━━━\u001b[0m\u001b[37m\u001b[0m \u001b[1m1s\u001b[0m 1ms/step - loss: 0.3559 - r2_score: 0.7316 - root_mean_squared_error: 0.5966 - val_loss: 0.3840 - val_r2_score: 0.7217 - val_root_mean_squared_error: 0.6197\n",
      "Epoch 17/30\n",
      "\u001b[1m413/413\u001b[0m \u001b[32m━━━━━━━━━━━━━━━━━━━━\u001b[0m\u001b[37m\u001b[0m \u001b[1m1s\u001b[0m 1ms/step - loss: 0.3512 - r2_score: 0.7351 - root_mean_squared_error: 0.5926 - val_loss: 0.4127 - val_r2_score: 0.7010 - val_root_mean_squared_error: 0.6424\n",
      "Epoch 18/30\n",
      "\u001b[1m413/413\u001b[0m \u001b[32m━━━━━━━━━━━━━━━━━━━━\u001b[0m\u001b[37m\u001b[0m \u001b[1m1s\u001b[0m 1ms/step - loss: 0.3505 - r2_score: 0.7356 - root_mean_squared_error: 0.5920 - val_loss: 0.3815 - val_r2_score: 0.7235 - val_root_mean_squared_error: 0.6177\n",
      "Epoch 19/30\n",
      "\u001b[1m413/413\u001b[0m \u001b[32m━━━━━━━━━━━━━━━━━━━━\u001b[0m\u001b[37m\u001b[0m \u001b[1m1s\u001b[0m 1ms/step - loss: 0.3473 - r2_score: 0.7380 - root_mean_squared_error: 0.5893 - val_loss: 0.4115 - val_r2_score: 0.7018 - val_root_mean_squared_error: 0.6415\n",
      "Epoch 20/30\n",
      "\u001b[1m413/413\u001b[0m \u001b[32m━━━━━━━━━━━━━━━━━━━━\u001b[0m\u001b[37m\u001b[0m \u001b[1m1s\u001b[0m 1ms/step - loss: 0.3455 - r2_score: 0.7394 - root_mean_squared_error: 0.5878 - val_loss: 0.4235 - val_r2_score: 0.6931 - val_root_mean_squared_error: 0.6508\n",
      "Epoch 21/30\n",
      "\u001b[1m413/413\u001b[0m \u001b[32m━━━━━━━━━━━━━━━━━━━━\u001b[0m\u001b[37m\u001b[0m \u001b[1m1s\u001b[0m 1ms/step - loss: 0.3453 - r2_score: 0.7395 - root_mean_squared_error: 0.5877 - val_loss: 0.3803 - val_r2_score: 0.7244 - val_root_mean_squared_error: 0.6167\n",
      "Epoch 22/30\n",
      "\u001b[1m413/413\u001b[0m \u001b[32m━━━━━━━━━━━━━━━━━━━━\u001b[0m\u001b[37m\u001b[0m \u001b[1m1s\u001b[0m 2ms/step - loss: 0.3408 - r2_score: 0.7429 - root_mean_squared_error: 0.5838 - val_loss: 0.3684 - val_r2_score: 0.7330 - val_root_mean_squared_error: 0.6070\n",
      "Epoch 23/30\n",
      "\u001b[1m413/413\u001b[0m \u001b[32m━━━━━━━━━━━━━━━━━━━━\u001b[0m\u001b[37m\u001b[0m \u001b[1m1s\u001b[0m 1ms/step - loss: 0.3396 - r2_score: 0.7438 - root_mean_squared_error: 0.5828 - val_loss: 0.3935 - val_r2_score: 0.7149 - val_root_mean_squared_error: 0.6273\n",
      "Epoch 24/30\n",
      "\u001b[1m413/413\u001b[0m \u001b[32m━━━━━━━━━━━━━━━━━━━━\u001b[0m\u001b[37m\u001b[0m \u001b[1m0s\u001b[0m 1ms/step - loss: 0.3376 - r2_score: 0.7454 - root_mean_squared_error: 0.5810 - val_loss: 0.3878 - val_r2_score: 0.7190 - val_root_mean_squared_error: 0.6228\n",
      "Epoch 25/30\n",
      "\u001b[1m413/413\u001b[0m \u001b[32m━━━━━━━━━━━━━━━━━━━━\u001b[0m\u001b[37m\u001b[0m \u001b[1m0s\u001b[0m 1ms/step - loss: 0.3389 - r2_score: 0.7444 - root_mean_squared_error: 0.5822 - val_loss: 0.3658 - val_r2_score: 0.7349 - val_root_mean_squared_error: 0.6048\n",
      "Epoch 26/30\n",
      "\u001b[1m413/413\u001b[0m \u001b[32m━━━━━━━━━━━━━━━━━━━━\u001b[0m\u001b[37m\u001b[0m \u001b[1m0s\u001b[0m 1ms/step - loss: 0.3353 - r2_score: 0.7471 - root_mean_squared_error: 0.5791 - val_loss: 0.3539 - val_r2_score: 0.7436 - val_root_mean_squared_error: 0.5949\n",
      "Epoch 27/30\n",
      "\u001b[1m413/413\u001b[0m \u001b[32m━━━━━━━━━━━━━━━━━━━━\u001b[0m\u001b[37m\u001b[0m \u001b[1m1s\u001b[0m 1ms/step - loss: 0.3344 - r2_score: 0.7478 - root_mean_squared_error: 0.5782 - val_loss: 0.3748 - val_r2_score: 0.7284 - val_root_mean_squared_error: 0.6122\n",
      "Epoch 28/30\n",
      "\u001b[1m413/413\u001b[0m \u001b[32m━━━━━━━━━━━━━━━━━━━━\u001b[0m\u001b[37m\u001b[0m \u001b[1m1s\u001b[0m 1ms/step - loss: 0.3328 - r2_score: 0.7490 - root_mean_squared_error: 0.5769 - val_loss: 0.3950 - val_r2_score: 0.7138 - val_root_mean_squared_error: 0.6285\n",
      "Epoch 29/30\n",
      "\u001b[1m413/413\u001b[0m \u001b[32m━━━━━━━━━━━━━━━━━━━━\u001b[0m\u001b[37m\u001b[0m \u001b[1m0s\u001b[0m 1ms/step - loss: 0.3337 - r2_score: 0.7483 - root_mean_squared_error: 0.5777 - val_loss: 0.3505 - val_r2_score: 0.7460 - val_root_mean_squared_error: 0.5920\n",
      "Epoch 30/30\n",
      "\u001b[1m413/413\u001b[0m \u001b[32m━━━━━━━━━━━━━━━━━━━━\u001b[0m\u001b[37m\u001b[0m \u001b[1m1s\u001b[0m 1ms/step - loss: 0.3289 - r2_score: 0.7519 - root_mean_squared_error: 0.5735 - val_loss: 0.3769 - val_r2_score: 0.7269 - val_root_mean_squared_error: 0.6139\n"
     ]
    }
   ],
   "source": [
    "fit_history = model.fit(train_x, train_y, epochs=30, validation_data=(val_x, val_y))"
   ]
  },
  {
   "cell_type": "markdown",
   "id": "7755011c",
   "metadata": {},
   "source": [
    "# Evaluation"
   ]
  },
  {
   "cell_type": "code",
   "execution_count": 46,
   "id": "9729bb56",
   "metadata": {},
   "outputs": [
    {
     "name": "stdout",
     "output_type": "stream",
     "text": [
      "\u001b[1m129/129\u001b[0m \u001b[32m━━━━━━━━━━━━━━━━━━━━\u001b[0m\u001b[37m\u001b[0m \u001b[1m0s\u001b[0m 1ms/step - loss: 9103.6865 - r2_score: -6946.2109 - root_mean_squared_error: 95.4132  \n"
     ]
    },
    {
     "data": {
      "text/plain": [
       "[9103.6865234375, -6946.2109375, 95.41323852539062]"
      ]
     },
     "execution_count": 46,
     "metadata": {},
     "output_type": "execute_result"
    }
   ],
   "source": [
    "model.evaluate(test_x, test_y, verbose=1)"
   ]
  }
 ],
 "metadata": {
  "kernelspec": {
   "display_name": ".venv",
   "language": "python",
   "name": "python3"
  },
  "language_info": {
   "codemirror_mode": {
    "name": "ipython",
    "version": 3
   },
   "file_extension": ".py",
   "mimetype": "text/x-python",
   "name": "python",
   "nbconvert_exporter": "python",
   "pygments_lexer": "ipython3",
   "version": "3.12.3"
  }
 },
 "nbformat": 4,
 "nbformat_minor": 5
}
